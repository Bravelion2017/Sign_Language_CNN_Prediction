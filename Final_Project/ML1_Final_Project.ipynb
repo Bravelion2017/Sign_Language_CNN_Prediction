{
  "cells": [
    {
      "cell_type": "markdown",
      "metadata": {
        "id": "YCzOflsmBK_u"
      },
      "source": [
        "<b>\n",
        "<p>\n",
        "<center>\n",
        "<font size=\"5\">\n",
        "Sign Language Gesture\n",
        "</font>\n",
        "</center>\n",
        "</p>\n",
        "\n",
        "<p>\n",
        "<center>\n",
        "<font size=\"4\">\n",
        "Convolutional Neural Networks\n",
        "</font>\n",
        "</center>\n",
        "</p>\n",
        "    \n",
        "<p>\n",
        "<center>\n",
        "<font size=\"4\">\n",
        "Final Project\n",
        "</font>\n",
        "</center>\n",
        "</p>\n",
        "\n",
        "<p>\n",
        "<center>\n",
        "<font size=\"3\">\n",
        "Data Science, Columbian College of Arts & Sciences, George Washington University\n",
        "</font>\n",
        "</center>\n",
        "</p>\n",
        "\n",
        "<p>\n",
        "<center>\n",
        "<font size=\"3\">\n",
        "- Ricardo Diaz\n",
        "- Osemekhian Ehilen\n",
        "- Varun Shan\n",
        "</font>\n",
        "</center>\n",
        "</p>\n",
        "</b>"
      ]
    },
    {
      "cell_type": "markdown",
      "metadata": {
        "id": "M7cEvPzSB0CX"
      },
      "source": [
        "## Overview"
      ]
    },
    {
      "cell_type": "markdown",
      "metadata": {
        "id": "bRRIzhsYB-L7"
      },
      "source": [
        "- Here we will work on Signature Language Dataset [Kaggle Link](https://www.kaggle.com/datasets/ahmedkhanak1995/sign-language-gesture-images-dataset).\n",
        "- The goal of this project is to be able to identify correctly the different signed languages where the user can upload images and the CNN model will tell the user which character or number it represents. \n",
        "- Reference for functions:\n",
        "[Github Link Dr.Yuxiao Huang](https://github.com/yuxiaohuang/teaching/blob/master/gwu/machine_learning_I/spring_2022/code/utilities/p2_shallow_learning/pmlm_utilities_shallow.ipynb)\n",
        "\n"
      ]
    },
    {
      "cell_type": "markdown",
      "metadata": {
        "id": "2p8PoUj2EbV8"
      },
      "source": [
        "## Google Drive\n"
      ]
    },
    {
      "cell_type": "code",
      "execution_count": 102,
      "metadata": {
        "colab": {
          "base_uri": "https://localhost:8080/"
        },
        "id": "jaRSN2DaEaRL",
        "outputId": "86f1f6fd-3804-4b82-d810-c6dc4cb85832"
      },
      "outputs": [
        {
          "output_type": "stream",
          "name": "stdout",
          "text": [
            "Drive already mounted at /content/drive; to attempt to forcibly remount, call drive.mount(\"/content/drive\", force_remount=True).\n"
          ]
        }
      ],
      "source": [
        "from google.colab import drive\n",
        "import sys\n",
        "\n",
        "# Mount Google Drive\n",
        "drive.mount('/content/drive')\n",
        "\n",
        "# Get the absolute path of the current folder\n",
        "abspath_curr = '/content/drive/My Drive/Colab Notebooks/Final_Project'\n",
        "\n",
        "\n",
        "# Get the absolute path of the deep utilities folder\n",
        "abspath_util_deep = '/content/drive/My Drive/Colab Notebooks/code/utilities/p3_deep_learning/'"
      ]
    },
    {
      "cell_type": "markdown",
      "metadata": {
        "id": "kKjEc5yWGAgQ"
      },
      "source": [
        "## Matplotlib"
      ]
    },
    {
      "cell_type": "code",
      "execution_count": 103,
      "metadata": {
        "id": "g_0q7uRZD49g"
      },
      "outputs": [],
      "source": [
        "import matplotlib.pyplot as plt\n",
        "%matplotlib inline \n",
        "\n",
        "# Set matplotlib sizes\n",
        "plt.rc('font', size=20)\n",
        "plt.rc('axes', titlesize=20)\n",
        "plt.rc('axes', labelsize=20)\n",
        "plt.rc('xtick', labelsize=20)\n",
        "plt.rc('ytick', labelsize=20)\n",
        "plt.rc('legend', fontsize=20)\n",
        "plt.rc('figure', titlesize=20)"
      ]
    },
    {
      "cell_type": "markdown",
      "metadata": {
        "id": "ikJT_pmrGDI-"
      },
      "source": [
        "## Tensorflow"
      ]
    },
    {
      "cell_type": "code",
      "execution_count": 104,
      "metadata": {
        "id": "-m382Vz_GE89"
      },
      "outputs": [],
      "source": [
        "# The magic below allows us to use tensorflow version 2.x\n",
        "%tensorflow_version 2.x \n",
        "import tensorflow as tf\n",
        "from tensorflow import keras"
      ]
    },
    {
      "cell_type": "markdown",
      "metadata": {
        "id": "2eBdre7-GLU3"
      },
      "source": [
        "## Random Seed"
      ]
    },
    {
      "cell_type": "code",
      "execution_count": 105,
      "metadata": {
        "id": "opzYd7YDGMu3"
      },
      "outputs": [],
      "source": [
        "# The random seed\n",
        "random_seed = 42\n",
        "\n",
        "# Set random seed in tensorflow\n",
        "tf.random.set_seed(random_seed)\n",
        "\n",
        "# Set random seed in numpy\n",
        "import numpy as np\n",
        "np.random.seed(random_seed)"
      ]
    },
    {
      "cell_type": "markdown",
      "metadata": {
        "id": "trMov4nMGOge"
      },
      "source": [
        "## Data Preprocessing"
      ]
    },
    {
      "cell_type": "code",
      "execution_count": 106,
      "metadata": {
        "colab": {
          "base_uri": "https://localhost:8080/"
        },
        "id": "6TpcnN6WGR1O",
        "outputId": "28bacae5-6242-4556-e30f-b5813b942c1f"
      },
      "outputs": [
        {
          "output_type": "stream",
          "name": "stdout",
          "text": [
            "/content/drive/My Drive/Colab Notebooks/code/utilities/p3_deep_learning\n"
          ]
        }
      ],
      "source": [
        "# Change working directory to the absolute path of the deep utilities folder\n",
        "%cd $abspath_util_deep\n",
        "\n",
        "# Import the deep utitilities\n",
        "%run pmlm_utilities_deep.ipynb"
      ]
    },
    {
      "cell_type": "markdown",
      "metadata": {
        "id": "pKCsv6ScGU8O"
      },
      "source": [
        "## Setting Up Kaggle Api"
      ]
    },
    {
      "cell_type": "code",
      "execution_count": 107,
      "metadata": {
        "colab": {
          "base_uri": "https://localhost:8080/",
          "height": 36
        },
        "id": "9-HLpkMWGWTB",
        "outputId": "5500900a-bb97-4c17-b3fa-e955b82b8ffa"
      },
      "outputs": [
        {
          "output_type": "execute_result",
          "data": {
            "text/plain": [
              "'/content/drive/My Drive/Colab Notebooks/code/utilities/p3_deep_learning'"
            ],
            "application/vnd.google.colaboratory.intrinsic+json": {
              "type": "string"
            }
          },
          "metadata": {},
          "execution_count": 107
        }
      ],
      "source": [
        "import os\n",
        "os.getcwd()"
      ]
    },
    {
      "cell_type": "code",
      "execution_count": 108,
      "metadata": {
        "id": "GhJ6hitc3HNQ"
      },
      "outputs": [],
      "source": [
        "!pip install kaggle"
      ]
    },
    {
      "cell_type": "code",
      "execution_count": 109,
      "metadata": {
        "id": "_ps4h1py4FfA"
      },
      "outputs": [],
      "source": [
        "from google.colab import files\n",
        "\n",
        "uploaded = files.upload()\n",
        "\n",
        "for fn in uploaded.keys():\n",
        "  print('User uploaded file \"{name}\" with length {length} bytes'.format(\n",
        "      name=fn, length=len(uploaded[fn])))\n",
        "  \n",
        "# Then move kaggle.json into the folder where the API expects to find it.\n",
        "!mkdir -p ~/.kaggle/ && mv kaggle.json ~/.kaggle/ && chmod 600 ~/.kaggle/kaggle.json"
      ]
    },
    {
      "cell_type": "code",
      "execution_count": 110,
      "metadata": {
        "id": "KEWLF92q3NYv"
      },
      "outputs": [],
      "source": [
        "from kaggle.api.kaggle_api_extended import KaggleApi\n",
        "api = KaggleApi()\n",
        "api.authenticate()"
      ]
    },
    {
      "cell_type": "code",
      "execution_count": 111,
      "metadata": {
        "id": "VygbOd3n4VSP"
      },
      "outputs": [],
      "source": [
        "api.dataset_download_files('ahmedkhanak1995/sign-language-gesture-images-dataset')\n"
      ]
    },
    {
      "cell_type": "code",
      "execution_count": 112,
      "metadata": {
        "id": "nw03X7nP4_hr"
      },
      "outputs": [],
      "source": [
        "from zipfile import ZipFile\n",
        "zf = ZipFile('sign-language-gesture-images-dataset.zip')\n",
        "#extracted data is saved in the same directory as notebook\n",
        "zf.extractall('/content/drive/My Drive/Colab Notebooks/Final_Project/data') #path here \n",
        "zf.close()"
      ]
    },
    {
      "cell_type": "markdown",
      "metadata": {
        "id": "JClN9frQ9GmP"
      },
      "source": [
        "## Loading Data\n"
      ]
    },
    {
      "cell_type": "code",
      "execution_count": 113,
      "metadata": {
        "id": "7RYXD93s9JVx"
      },
      "outputs": [],
      "source": [
        "data = '/content/drive/My Drive/Colab Notebooks/Final_Project/data/Gesture Image Data'"
      ]
    },
    {
      "cell_type": "code",
      "execution_count": 114,
      "metadata": {
        "id": "oEpugX3WCc8F"
      },
      "outputs": [],
      "source": [
        "categories = os.listdir(data)"
      ]
    },
    {
      "cell_type": "code",
      "execution_count": 115,
      "metadata": {
        "colab": {
          "base_uri": "https://localhost:8080/",
          "height": 280
        },
        "id": "QE6MIrnqDAXj",
        "outputId": "1cc2e524-364f-4174-b999-42efd5643138"
      },
      "outputs": [
        {
          "output_type": "display_data",
          "data": {
            "text/plain": [
              "<Figure size 432x288 with 1 Axes>"
            ],
            "image/png": "[encoded data removed]"
          },
          "metadata": {
            "needs_background": "light"
          }
        }
      ],
      "source": [
        "import numpy as np\n",
        "import matplotlib.pyplot as plt\n",
        "import os\n",
        "import cv2\n",
        "from tqdm import tqdm\n",
        "for x in categories:\n",
        "  path = os.path.join(data,x)\n",
        "  for img in os.listdir(path):\n",
        "        img_array = cv2.imread(os.path.join(path,img) ,cv2.IMREAD_GRAYSCALE)  # convert to array\n",
        "        plt.imshow(img_array, cmap='gray')  # graph it\n",
        "        plt.show()  # display!\n",
        "        break  # we just want one for now so break\n",
        "  break  #...and one more!    \n"
      ]
    },
    {
      "cell_type": "code",
      "source": [
        "training_data = []"
      ],
      "metadata": {
        "id": "A9ztH7p_R879"
      },
      "execution_count": 116,
      "outputs": []
    },
    {
      "cell_type": "markdown",
      "metadata": {
        "id": "sFMTHXE_I7XI"
      },
      "source": [
        "Remenber the data is in different folders and the label is the name of the folder"
      ]
    },
    {
      "cell_type": "code",
      "execution_count": 117,
      "metadata": {
        "id": "4ctSwNz8FhAi"
      },
      "outputs": [],
      "source": [
        "for y in categories:\n",
        "  path = os.path.join(data,y)\n",
        "  for img in os.listdir(path):\n",
        "    try:\n",
        "        img_array = cv2.imread(os.path.join(path,img) ,cv2.IMREAD_GRAYSCALE)\n",
        "        new_array = cv2.resize(img_array,(50,50))  # convert to array\n",
        "        training_data.append([new_array, y])\n",
        "    except Exception as e:\n",
        "      pass\n"
      ]
    },
    {
      "cell_type": "code",
      "execution_count": 118,
      "metadata": {
        "id": "ZhZPQi-POnXI",
        "colab": {
          "base_uri": "https://localhost:8080/"
        },
        "outputId": "c35a766c-1431-4c9f-f236-b6f03df20dda"
      },
      "outputs": [
        {
          "output_type": "execute_result",
          "data": {
            "text/plain": [
              "[array([[ 97, 100,  97, ..., 116, 118, 117],\n",
              "        [ 96,  99,  97, ..., 118, 118, 118],\n",
              "        [ 96,  99,  97, ..., 116, 115, 115],\n",
              "        ...,\n",
              "        [ 85,  86,  85, ...,  89,  89,  90],\n",
              "        [ 88,  85,  84, ...,  89,  89,  88],\n",
              "        [ 87,  84,  84, ...,  90,  90,  89]], dtype=uint8), '0']"
            ]
          },
          "metadata": {},
          "execution_count": 118
        }
      ],
      "source": [
        "training_data[1]"
      ]
    },
    {
      "cell_type": "code",
      "execution_count": 119,
      "metadata": {
        "id": "CU8vHzGOGUQV"
      },
      "outputs": [],
      "source": [
        "import random \n",
        "\n",
        "random.shuffle(training_data)"
      ]
    },
    {
      "cell_type": "code",
      "execution_count": 120,
      "metadata": {
        "id": "zIWcAj2jSmlP",
        "colab": {
          "base_uri": "https://localhost:8080/"
        },
        "outputId": "a7091820-e20f-4f37-e075-0746b21302a0"
      },
      "outputs": [
        {
          "output_type": "execute_result",
          "data": {
            "text/plain": [
              "[array([[107, 105, 108, ..., 132, 136, 138],\n",
              "        [105, 111, 105, ..., 135, 137, 137],\n",
              "        [102, 103, 107, ..., 133, 136, 134],\n",
              "        ...,\n",
              "        [ 91,  91,  96, ...,  64,  68,  64],\n",
              "        [ 90,  95,  92, ...,  63,  63,  64],\n",
              "        [ 92,  91,  92, ...,  62,  59,  58]], dtype=uint8), '8']"
            ]
          },
          "metadata": {},
          "execution_count": 120
        }
      ],
      "source": [
        "training_data[1]"
      ]
    },
    {
      "cell_type": "code",
      "execution_count": 121,
      "metadata": {
        "id": "BOLzv4rCG_js"
      },
      "outputs": [],
      "source": [
        "X = []\n",
        "Y = []\n",
        "\n",
        "for features,label in training_data:\n",
        "    X.append(features)\n",
        "    Y.append(label)"
      ]
    },
    {
      "cell_type": "code",
      "execution_count": 122,
      "metadata": {
        "id": "HfImU_BvIVJU"
      },
      "outputs": [],
      "source": [
        "X = np.array(X)\n",
        "Y = np.array(Y)"
      ]
    },
    {
      "cell_type": "code",
      "execution_count": 123,
      "metadata": {
        "id": "idUJhVBnknVy"
      },
      "outputs": [],
      "source": [
        "transdict = {'_':1,\n",
        "    '0':2,\n",
        "    '1':3,\n",
        "    '2':4,\n",
        "    '3':5,\n",
        "    '4':6,\n",
        "    '5':7,\n",
        "    '6':8,\n",
        "    '7':9,\n",
        "    '8':10,\n",
        "    '9':11,\n",
        "    'A':12,\n",
        "    'B':13,\n",
        "    'C':14,\n",
        "    'D':15,\n",
        "    'E':16,\n",
        "    'F':17,\n",
        "    'G':18,\n",
        "    'H':19,\n",
        "    'I':20,\n",
        "    'J':21,\n",
        "    'K':22,\n",
        "    'L':23,\n",
        "    'M':24,\n",
        "    'N':25,\n",
        "    'O':26,\n",
        "    'P':27,\n",
        "    'Q':28,\n",
        "    'R':29,\n",
        "    'S':30,\n",
        "    'T':31,\n",
        "    'U':32,\n",
        "    'V':33,\n",
        "    'W':34,\n",
        "    'X':35,\n",
        "    'Y':36,\n",
        "    'Z':37,\n",
        "}\n",
        "\n",
        "transform_Y = [transdict[letter] for letter in Y]"
      ]
    },
    {
      "cell_type": "code",
      "execution_count": 136,
      "metadata": {
        "id": "ITPjIvUBlM2C"
      },
      "outputs": [],
      "source": [
        "Y = np.array(transform_Y)"
      ]
    },
    {
      "cell_type": "code",
      "execution_count": 125,
      "metadata": {
        "id": "FtGGQuQkp0_9"
      },
      "outputs": [],
      "source": [
        "# Making it 3D \n",
        "X = np.array(X).reshape(-1,50,50,1)\n",
        "# Normalizing\n",
        "X = X/255"
      ]
    },
    {
      "cell_type": "markdown",
      "metadata": {
        "id": "Ox77VNHxI13l"
      },
      "source": [
        "## Getting the Training, Validation and Test Dataset"
      ]
    },
    {
      "cell_type": "code",
      "execution_count": 126,
      "metadata": {
        "id": "Ra1wSZOHJa_g"
      },
      "outputs": [],
      "source": [
        "from sklearn.model_selection import train_test_split\n",
        "X_train, X_test, y_train, y_test  = train_test_split(X, Y, test_size=0.3, random_state=random_seed, stratify=Y)\n",
        "\n",
        "# We may dont need this because we can do a validation split in the model.fit\n",
        "X_train, X_val, y_train, y_val = train_test_split(X_train, y_train, test_size=0.3, random_state=random_seed, stratify=y_train)"
      ]
    },
    {
      "cell_type": "markdown",
      "metadata": {
        "id": "1eicwbYqS9ba"
      },
      "source": [
        "## Transforming Array to Tensor Dataset "
      ]
    },
    {
      "cell_type": "code",
      "execution_count": 127,
      "metadata": {
        "id": "SR7KDp6HTbh_"
      },
      "outputs": [],
      "source": [
        "data_train = tf.data.Dataset.from_tensor_slices((X_train, y_train))\n",
        "data_valid = tf.data.Dataset.from_tensor_slices((X_val, y_val))\n",
        "data_test = tf.data.Dataset.from_tensor_slices((X_test, y_test))"
      ]
    },
    {
      "cell_type": "code",
      "execution_count": 128,
      "metadata": {
        "id": "e243-H7ramiR",
        "colab": {
          "base_uri": "https://localhost:8080/"
        },
        "outputId": "5fcfe256-e9d4-437b-f20f-397733cb8cd3"
      },
      "outputs": [
        {
          "output_type": "execute_result",
          "data": {
            "text/plain": [
              "tensorflow.python.data.ops.dataset_ops.TensorSliceDataset"
            ]
          },
          "metadata": {},
          "execution_count": 128
        }
      ],
      "source": [
        "type(data_train)"
      ]
    },
    {
      "cell_type": "code",
      "execution_count": 129,
      "metadata": {
        "id": "RtUab1JMw78J"
      },
      "outputs": [],
      "source": [
        "# Set the batch size\n",
        "batch_size = 500\n",
        "\n",
        "# Batch and prefetch the training data\n",
        "data_train = data_train.batch(batch_size).prefetch(1)\n",
        "\n",
        "# Batch and prefetch the validation data\n",
        "data_valid = data_valid.batch(batch_size).prefetch(1)\n",
        "\n",
        "# Batch and prefetch the test data\n",
        "data_test = data_test.batch(batch_size).prefetch(1)"
      ]
    },
    {
      "cell_type": "markdown",
      "metadata": {
        "id": "gYzrWlEhxzhK"
      },
      "source": [
        "## Training "
      ]
    },
    {
      "cell_type": "code",
      "execution_count": 130,
      "metadata": {
        "id": "dxI4m2Ebx1qE"
      },
      "outputs": [],
      "source": [
        "# Make directory\n",
        "directory = os.path.dirname(abspath_curr + '/result/model/')\n",
        "if not os.path.exists(directory):\n",
        "    os.makedirs(directory)"
      ]
    },
    {
      "cell_type": "markdown",
      "metadata": {
        "id": "DBaWrSi1Ze3r"
      },
      "source": [
        "### Building Model"
      ]
    },
    {
      "cell_type": "code",
      "source": [
        "model = keras.models.Sequential([\n",
        "    keras.layers.Conv2D(32, 5, activation='relu', input_shape=(50, 50, 1)),\n",
        "    keras.layers.MaxPooling2D(2),\n",
        "    keras.layers.Dense(64, activation='relu'),\n",
        "    keras.layers.Dropout(0.5),\n",
        "    keras.layers.Flatten(),  # <= add this\n",
        "    keras.layers.Dense(38, activation='softmax')\n",
        "])"
      ],
      "metadata": {
        "id": "S3fXPJ3_epfj"
      },
      "execution_count": 312,
      "outputs": []
    },
    {
      "cell_type": "code",
      "execution_count": 313,
      "metadata": {
        "id": "4lhaTqLhbHMg"
      },
      "outputs": [],
      "source": [
        "# Compile the model\n",
        "model.compile(keras.optimizers.Adam(learning_rate=0.0001),\n",
        "              loss='sparse_categorical_crossentropy',\n",
        "              metrics=['accuracy'])"
      ]
    },
    {
      "cell_type": "markdown",
      "metadata": {
        "id": "_hGqxfk323us"
      },
      "source": [
        "## Using TensorSlide Dataset"
      ]
    },
    {
      "cell_type": "code",
      "source": [
        "# ModelCheckpoint callback\n",
        "model_checkpoint_cb = keras.callbacks.ModelCheckpoint(filepath=abspath_curr + '/result/model/model_final',\n",
        "                                                      save_best_only=True,\n",
        "                                                      save_weights_only=True)\n",
        "\n",
        "# EarlyStopping callback\n",
        "early_stopping_cb = keras.callbacks.EarlyStopping(patience=5,\n",
        "                                                  restore_best_weights=True)\n",
        "\n",
        "# ReduceLROnPlateau callback\n",
        "reduce_lr_on_plateau_cb = keras.callbacks.ReduceLROnPlateau(factor=0.1,\n",
        "                                                            patience=2)"
      ],
      "metadata": {
        "id": "zh402CkLLcN-"
      },
      "execution_count": 314,
      "outputs": []
    },
    {
      "cell_type": "code",
      "execution_count": 315,
      "metadata": {
        "id": "iQw-0ooYb60_",
        "colab": {
          "base_uri": "https://localhost:8080/"
        },
        "outputId": "91d3cbae-744a-4481-e618-a64b3d6ca4ce"
      },
      "outputs": [
        {
          "output_type": "stream",
          "name": "stdout",
          "text": [
            "Epoch 1/5\n",
            "55/55 [==============================] - 2s 30ms/step - loss: 3.3512 - accuracy: 0.2373 - val_loss: 2.9186 - val_accuracy: 0.7116 - lr: 1.0000e-04\n",
            "Epoch 2/5\n",
            "55/55 [==============================] - 2s 29ms/step - loss: 2.2287 - accuracy: 0.7329 - val_loss: 1.5001 - val_accuracy: 0.8222 - lr: 1.0000e-04\n",
            "Epoch 3/5\n",
            "55/55 [==============================] - 2s 28ms/step - loss: 1.0928 - accuracy: 0.8255 - val_loss: 0.7871 - val_accuracy: 0.8696 - lr: 1.0000e-04\n",
            "Epoch 4/5\n",
            "55/55 [==============================] - 2s 28ms/step - loss: 0.6414 - accuracy: 0.8749 - val_loss: 0.5117 - val_accuracy: 0.9021 - lr: 1.0000e-04\n",
            "Epoch 5/5\n",
            "55/55 [==============================] - 2s 28ms/step - loss: 0.4388 - accuracy: 0.9094 - val_loss: 0.3620 - val_accuracy: 0.9233 - lr: 1.0000e-04\n"
          ]
        }
      ],
      "source": [
        "# Train, evaluate and save the best model\n",
        "history = model.fit(data_train,\n",
        "                    epochs=5,\n",
        "                    validation_data=data_valid,\n",
        "                    callbacks=[model_checkpoint_cb,\n",
        "                               early_stopping_cb,\n",
        "                               reduce_lr_on_plateau_cb])"
      ]
    },
    {
      "cell_type": "code",
      "execution_count": 316,
      "metadata": {
        "id": "eou-Y_e7b-mX"
      },
      "outputs": [],
      "source": [
        "# Make directory\n",
        "directory = os.path.dirname(abspath_curr + '/result/figure/')\n",
        "if not os.path.exists(directory):\n",
        "    os.makedirs(directory)\n"
      ]
    },
    {
      "cell_type": "code",
      "execution_count": 317,
      "metadata": {
        "id": "jG_NrMLDb_fH",
        "colab": {
          "base_uri": "https://localhost:8080/",
          "height": 347
        },
        "outputId": "1fb73e33-2480-4c12-cbfe-ee3867193e02"
      },
      "outputs": [
        {
          "output_type": "display_data",
          "data": {
            "text/plain": [
              "<Figure size 576x360 with 1 Axes>"
            ],
            "image/png": "[encoded data removed]"
          },
          "metadata": {
            "needs_background": "light"
          }
        }
      ],
      "source": [
        "import pandas as pd\n",
        "\n",
        "# Create a figure\n",
        "pd.DataFrame(history.history).plot(figsize=(8, 5))\n",
        "\n",
        "# Save and show the figure\n",
        "plt.tight_layout()\n",
        "plt.savefig(abspath_curr + '/result/figure/learning_curve.pdf')\n",
        "plt.show()"
      ]
    },
    {
      "cell_type": "code",
      "source": [
        "loss, accuracy = model.evaluate(data_test)\n"
      ],
      "metadata": {
        "id": "KfU73ooDaFvV",
        "colab": {
          "base_uri": "https://localhost:8080/"
        },
        "outputId": "31833904-134c-44e4-8a66-c3295d80233d"
      },
      "execution_count": 318,
      "outputs": [
        {
          "output_type": "stream",
          "name": "stdout",
          "text": [
            "34/34 [==============================] - 0s 11ms/step - loss: 0.3544 - accuracy: 0.9311\n"
          ]
        }
      ]
    },
    {
      "cell_type": "markdown",
      "source": [
        "## Predictions"
      ],
      "metadata": {
        "id": "m1pDVDjvpOUx"
      }
    },
    {
      "cell_type": "code",
      "source": [
        "img = cv2.imread(\"/content/drive/My Drive/Colab Notebooks/Final_Project/data/Trial/photo_2.jpeg\",cv2.IMREAD_GRAYSCALE)\n",
        "img = cv2.resize(img, (50, 50))\n",
        "plt.imshow(img,cmap = 'gray')"
      ],
      "metadata": {
        "colab": {
          "base_uri": "https://localhost:8080/",
          "height": 297
        },
        "id": "i3qiWW47pqC-",
        "outputId": "1fb0fae5-af21-44f8-9737-68a7a5392c23"
      },
      "execution_count": 350,
      "outputs": [
        {
          "output_type": "execute_result",
          "data": {
            "text/plain": [
              "<matplotlib.image.AxesImage at 0x7f313857ff50>"
            ]
          },
          "metadata": {},
          "execution_count": 350
        },
        {
          "output_type": "display_data",
          "data": {
            "text/plain": [
              "<Figure size 432x288 with 1 Axes>"
            ],
            "image/png": "[encoded data removed]"
          },
          "metadata": {
            "needs_background": "light"
          }
        }
      ]
    },
    {
      "cell_type": "code",
      "source": [
        "import cv2\n",
        "import numpy as np\n",
        "\n",
        "img = cv2.imread(\"/content/drive/My Drive/Colab Notebooks/Final_Project/data/Trial/photo_2.jpeg\",cv2.IMREAD_GRAYSCALE)\n",
        "img = cv2.resize(img, (50, 50))\n",
        "img = np.reshape(img, [-1, 50, 50, 1])\n",
        "img = img/255\n",
        "print(np.argmax(model.predict(img)))\n"
      ],
      "metadata": {
        "colab": {
          "base_uri": "https://localhost:8080/"
        },
        "id": "6FFI_BMVVPCP",
        "outputId": "4a9b40ec-150d-4123-fbe7-ef41db567c4e"
      },
      "execution_count": 352,
      "outputs": [
        {
          "output_type": "stream",
          "name": "stdout",
          "text": [
            "28\n"
          ]
        }
      ]
    },
    {
      "cell_type": "code",
      "source": [
        "img = cv2.imread(\"/content/drive/My Drive/Colab Notebooks/Final_Project/data/Trial/photo_1.jpeg\",cv2.IMREAD_GRAYSCALE)\n",
        "img = cv2.resize(img, (50, 50))\n",
        "plt.imshow(img,cmap = 'gray')"
      ],
      "metadata": {
        "colab": {
          "base_uri": "https://localhost:8080/",
          "height": 297
        },
        "id": "UJDcB9qqq6BZ",
        "outputId": "1ad0c63e-0861-483a-fbc7-2e47be11eaf9"
      },
      "execution_count": 348,
      "outputs": [
        {
          "output_type": "execute_result",
          "data": {
            "text/plain": [
              "<matplotlib.image.AxesImage at 0x7f31385ed950>"
            ]
          },
          "metadata": {},
          "execution_count": 348
        },
        {
          "output_type": "display_data",
          "data": {
            "text/plain": [
              "<Figure size 432x288 with 1 Axes>"
            ],
            "image/png": "[encoded data removed]"
          },
          "metadata": {
            "needs_background": "light"
          }
        }
      ]
    },
    {
      "cell_type": "code",
      "source": [
        "img = cv2.imread(\"/content/drive/My Drive/Colab Notebooks/Final_Project/data/Trial/photo_1.jpeg\",cv2.IMREAD_GRAYSCALE)\n",
        "img = cv2.resize(img, (50, 50))\n",
        "img = np.reshape(img, [-1, 50, 50, 1])\n",
        "img = img/255\n",
        "print(np.argmax(model.predict(img)))\n",
        "  "
      ],
      "metadata": {
        "colab": {
          "base_uri": "https://localhost:8080/"
        },
        "id": "CWzkKBJTYF9O",
        "outputId": "5f53b174-3c84-4ad9-f4d4-3f9ab692ccbb"
      },
      "execution_count": 349,
      "outputs": [
        {
          "output_type": "stream",
          "name": "stdout",
          "text": [
            "35\n"
          ]
        }
      ]
    },
    {
      "cell_type": "code",
      "source": [
        "img = cv2.imread(\"/content/drive/My Drive/Colab Notebooks/Final_Project/data/Trial/photo_4.jpeg\",cv2.IMREAD_GRAYSCALE)\n",
        "img = cv2.resize(img, (50, 50))\n",
        "plt.imshow(img,cmap = 'gray')"
      ],
      "metadata": {
        "colab": {
          "base_uri": "https://localhost:8080/",
          "height": 297
        },
        "id": "-prdU4dPrBuh",
        "outputId": "c231fa71-0989-4804-ade4-cbd08ddc1b06"
      },
      "execution_count": 347,
      "outputs": [
        {
          "output_type": "execute_result",
          "data": {
            "text/plain": [
              "<matplotlib.image.AxesImage at 0x7f3138769f90>"
            ]
          },
          "metadata": {},
          "execution_count": 347
        },
        {
          "output_type": "display_data",
          "data": {
            "text/plain": [
              "<Figure size 432x288 with 1 Axes>"
            ],
            "image/png": "[encoded data removed]"
          },
          "metadata": {
            "needs_background": "light"
          }
        }
      ]
    },
    {
      "cell_type": "code",
      "source": [
        "img = cv2.imread(\"/content/drive/My Drive/Colab Notebooks/Final_Project/data/Trial/photo_4.jpeg\",cv2.IMREAD_GRAYSCALE)\n",
        "img = cv2.resize(img, (50, 50))\n",
        "img = np.reshape(img, [-1, 50, 50, 1])\n",
        "img = img/250\n",
        "print(np.argmax(model.predict(img)))\n"
      ],
      "metadata": {
        "colab": {
          "base_uri": "https://localhost:8080/"
        },
        "id": "5vzf8U7QYHi-",
        "outputId": "682d1ace-f6b9-41c3-ec50-9f9969d0f731"
      },
      "execution_count": 344,
      "outputs": [
        {
          "output_type": "stream",
          "name": "stdout",
          "text": [
            "19\n"
          ]
        }
      ]
    }
  ],
  "metadata": {
    "colab": {
      "collapsed_sections": [],
      "name": "ML1_Final_Project.ipynb",
      "provenance": [],
      "machine_shape": "hm"
    },
    "kernelspec": {
      "display_name": "Python 3",
      "name": "python3"
    },
    "language_info": {
      "name": "python"
    },
    "accelerator": "GPU"
  },
  "nbformat": 4,
  "nbformat_minor": 0
}