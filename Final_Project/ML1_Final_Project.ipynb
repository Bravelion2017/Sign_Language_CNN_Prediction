{
  "nbformat": 4,
  "nbformat_minor": 0,
  "metadata": {
    "colab": {
      "name": "ML1_Final_Project.ipynb",
      "provenance": [],
      "collapsed_sections": []
    },
    "kernelspec": {
      "name": "python3",
      "display_name": "Python 3"
    },
    "language_info": {
      "name": "python"
    }
  },
  "cells": [
    {
      "cell_type": "markdown",
      "source": [
        "<b>\n",
        "<p>\n",
        "<center>\n",
        "<font size=\"5\">\n",
        "Sign Language Gesture\n",
        "</font>\n",
        "</center>\n",
        "</p>\n",
        "\n",
        "<p>\n",
        "<center>\n",
        "<font size=\"4\">\n",
        "Convolutional Neural Networks\n",
        "</font>\n",
        "</center>\n",
        "</p>\n",
        "    \n",
        "<p>\n",
        "<center>\n",
        "<font size=\"4\">\n",
        "Final Project\n",
        "</font>\n",
        "</center>\n",
        "</p>\n",
        "\n",
        "<p>\n",
        "<center>\n",
        "<font size=\"3\">\n",
        "Data Science, Columbian College of Arts & Sciences, George Washington University\n",
        "</font>\n",
        "</center>\n",
        "</p>\n",
        "\n",
        "<p>\n",
        "<center>\n",
        "<font size=\"3\">\n",
        "- Ricardo Diaz\n",
        "- Osemekhian Ehilen\n",
        "- Varun Shan\n",
        "</font>\n",
        "</center>\n",
        "</p>\n",
        "</b>"
      ],
      "metadata": {
        "id": "YCzOflsmBK_u"
      }
    },
    {
      "cell_type": "markdown",
      "source": [
        "## Overview"
      ],
      "metadata": {
        "id": "M7cEvPzSB0CX"
      }
    },
    {
      "cell_type": "markdown",
      "source": [
        "- Here we will work on Signature Language Dataset [Kaggle Link](https://www.kaggle.com/datasets/ahmedkhanak1995/sign-language-gesture-images-dataset).\n",
        "- The goal of this project is to be able to identify correctly the different signed languages where the user can upload images and the CNN model will tell the user which character or number it represents. \n",
        "- Reference for functions:\n",
        "[Github Link Dr.Yuxiao Huang](https://github.com/yuxiaohuang/teaching/blob/master/gwu/machine_learning_I/spring_2022/code/utilities/p2_shallow_learning/pmlm_utilities_shallow.ipynb)\n",
        "\n"
      ],
      "metadata": {
        "id": "bRRIzhsYB-L7"
      }
    },
    {
      "cell_type": "markdown",
      "source": [
        "## Google Drive\n"
      ],
      "metadata": {
        "id": "2p8PoUj2EbV8"
      }
    },
    {
      "cell_type": "code",
      "source": [
        "from google.colab import drive\n",
        "import sys\n",
        "\n",
        "# Mount Google Drive\n",
        "drive.mount('/content/drive')\n",
        "\n",
        "# Get the absolute path of the current folder\n",
        "abspath_curr = '/content/drive/My Drive/Colab Notebooks/Final_Project'\n",
        "\n",
        "\n",
        "# Get the absolute path of the deep utilities folder\n",
        "abspath_util_deep = '/content/drive/My Drive/Colab Notebooks/code/utilities/p3_deep_learning/'"
      ],
      "metadata": {
        "id": "jaRSN2DaEaRL",
        "colab": {
          "base_uri": "https://localhost:8080/"
        },
        "outputId": "ae0b1dcc-2688-45ee-e8b8-8c719d2ac3ba"
      },
      "execution_count": 3,
      "outputs": [
        {
          "output_type": "stream",
          "name": "stdout",
          "text": [
            "Mounted at /content/drive\n"
          ]
        }
      ]
    },
    {
      "cell_type": "markdown",
      "source": [
        "## Matplotlib"
      ],
      "metadata": {
        "id": "kKjEc5yWGAgQ"
      }
    },
    {
      "cell_type": "code",
      "source": [
        "import matplotlib.pyplot as plt\n",
        "%matplotlib inline \n",
        "\n",
        "# Set matplotlib sizes\n",
        "plt.rc('font', size=20)\n",
        "plt.rc('axes', titlesize=20)\n",
        "plt.rc('axes', labelsize=20)\n",
        "plt.rc('xtick', labelsize=20)\n",
        "plt.rc('ytick', labelsize=20)\n",
        "plt.rc('legend', fontsize=20)\n",
        "plt.rc('figure', titlesize=20)"
      ],
      "metadata": {
        "id": "g_0q7uRZD49g"
      },
      "execution_count": 4,
      "outputs": []
    },
    {
      "cell_type": "markdown",
      "source": [
        "## Tensorflow"
      ],
      "metadata": {
        "id": "ikJT_pmrGDI-"
      }
    },
    {
      "cell_type": "code",
      "source": [
        "# The magic below allows us to use tensorflow version 2.x\n",
        "%tensorflow_version 2.x \n",
        "import tensorflow as tf\n",
        "from tensorflow import keras"
      ],
      "metadata": {
        "id": "-m382Vz_GE89"
      },
      "execution_count": 5,
      "outputs": []
    },
    {
      "cell_type": "markdown",
      "source": [
        "## Random Seed"
      ],
      "metadata": {
        "id": "2eBdre7-GLU3"
      }
    },
    {
      "cell_type": "code",
      "source": [
        "# The random seed\n",
        "random_seed = 42\n",
        "\n",
        "# Set random seed in tensorflow\n",
        "tf.random.set_seed(random_seed)\n",
        "\n",
        "# Set random seed in numpy\n",
        "import numpy as np\n",
        "np.random.seed(random_seed)"
      ],
      "metadata": {
        "id": "opzYd7YDGMu3"
      },
      "execution_count": 6,
      "outputs": []
    },
    {
      "cell_type": "markdown",
      "source": [
        "## Data Preprocessing"
      ],
      "metadata": {
        "id": "trMov4nMGOge"
      }
    },
    {
      "cell_type": "code",
      "source": [
        "# Change working directory to the absolute path of the deep utilities folder\n",
        "%cd $abspath_util_deep\n",
        "\n",
        "# Import the deep utitilities\n",
        "%run pmlm_utilities_deep.ipynb"
      ],
      "metadata": {
        "colab": {
          "base_uri": "https://localhost:8080/"
        },
        "id": "6TpcnN6WGR1O",
        "outputId": "39357fbd-74c5-4b33-df61-a961d3de8a3e"
      },
      "execution_count": 7,
      "outputs": [
        {
          "output_type": "stream",
          "name": "stdout",
          "text": [
            "/content/drive/My Drive/Colab Notebooks/code/utilities/p3_deep_learning\n"
          ]
        }
      ]
    },
    {
      "cell_type": "markdown",
      "source": [
        "## Setting Up Kaggle Api"
      ],
      "metadata": {
        "id": "pKCsv6ScGU8O"
      }
    },
    {
      "cell_type": "code",
      "source": [
        "import os\n",
        "os.getcwd()"
      ],
      "metadata": {
        "colab": {
          "base_uri": "https://localhost:8080/",
          "height": 35
        },
        "id": "9-HLpkMWGWTB",
        "outputId": "bbd7fe53-335e-43f2-dd97-775a9ee4cbe7"
      },
      "execution_count": 8,
      "outputs": [
        {
          "output_type": "execute_result",
          "data": {
            "text/plain": [
              "'/content/drive/My Drive/Colab Notebooks/code/utilities/p3_deep_learning'"
            ],
            "application/vnd.google.colaboratory.intrinsic+json": {
              "type": "string"
            }
          },
          "metadata": {},
          "execution_count": 8
        }
      ]
    },
    {
      "cell_type": "code",
      "source": [
        "!pip install kaggle"
      ],
      "metadata": {
        "colab": {
          "base_uri": "https://localhost:8080/"
        },
        "id": "GhJ6hitc3HNQ",
        "outputId": "9ee9afc4-da12-491e-ff0c-0fadd7124f88"
      },
      "execution_count": 9,
      "outputs": [
        {
          "output_type": "stream",
          "name": "stdout",
          "text": [
            "Requirement already satisfied: kaggle in /usr/local/lib/python3.7/dist-packages (1.5.12)\n",
            "Requirement already satisfied: certifi in /usr/local/lib/python3.7/dist-packages (from kaggle) (2021.10.8)\n",
            "Requirement already satisfied: six>=1.10 in /usr/local/lib/python3.7/dist-packages (from kaggle) (1.15.0)\n",
            "Requirement already satisfied: requests in /usr/local/lib/python3.7/dist-packages (from kaggle) (2.23.0)\n",
            "Requirement already satisfied: python-slugify in /usr/local/lib/python3.7/dist-packages (from kaggle) (6.1.1)\n",
            "Requirement already satisfied: urllib3 in /usr/local/lib/python3.7/dist-packages (from kaggle) (1.24.3)\n",
            "Requirement already satisfied: tqdm in /usr/local/lib/python3.7/dist-packages (from kaggle) (4.64.0)\n",
            "Requirement already satisfied: python-dateutil in /usr/local/lib/python3.7/dist-packages (from kaggle) (2.8.2)\n",
            "Requirement already satisfied: text-unidecode>=1.3 in /usr/local/lib/python3.7/dist-packages (from python-slugify->kaggle) (1.3)\n",
            "Requirement already satisfied: chardet<4,>=3.0.2 in /usr/local/lib/python3.7/dist-packages (from requests->kaggle) (3.0.4)\n",
            "Requirement already satisfied: idna<3,>=2.5 in /usr/local/lib/python3.7/dist-packages (from requests->kaggle) (2.10)\n"
          ]
        }
      ]
    },
    {
      "cell_type": "code",
      "source": [
        "# from google.colab import files\n",
        "\n",
        "# uploaded = files.upload()\n",
        "\n",
        "# for fn in uploaded.keys():\n",
        "#   print('User uploaded file \"{name}\" with length {length} bytes'.format(\n",
        "#       name=fn, length=len(uploaded[fn])))\n",
        "  \n",
        "# # Then move kaggle.json into the folder where the API expects to find it.\n",
        "# !mkdir -p ~/.kaggle/ && mv kaggle.json ~/.kaggle/ && chmod 600 ~/.kaggle/kaggle.json"
      ],
      "metadata": {
        "id": "_ps4h1py4FfA"
      },
      "execution_count": 10,
      "outputs": []
    },
    {
      "cell_type": "code",
      "source": [
        "from kaggle.api.kaggle_api_extended import KaggleApi\n",
        "api = KaggleApi()\n",
        "api.authenticate()"
      ],
      "metadata": {
        "id": "KEWLF92q3NYv",
        "colab": {
          "base_uri": "https://localhost:8080/",
          "height": 345
        },
        "outputId": "d82b3f63-eb88-4206-da4b-752551a15324"
      },
      "execution_count": 11,
      "outputs": [
        {
          "output_type": "error",
          "ename": "OSError",
          "evalue": "ignored",
          "traceback": [
            "\u001b[0;31m---------------------------------------------------------------------------\u001b[0m",
            "\u001b[0;31mOSError\u001b[0m                                   Traceback (most recent call last)",
            "\u001b[0;32m<ipython-input-11-ae9062023d5f>\u001b[0m in \u001b[0;36m<module>\u001b[0;34m()\u001b[0m\n\u001b[0;32m----> 1\u001b[0;31m \u001b[0;32mfrom\u001b[0m \u001b[0mkaggle\u001b[0m\u001b[0;34m.\u001b[0m\u001b[0mapi\u001b[0m\u001b[0;34m.\u001b[0m\u001b[0mkaggle_api_extended\u001b[0m \u001b[0;32mimport\u001b[0m \u001b[0mKaggleApi\u001b[0m\u001b[0;34m\u001b[0m\u001b[0;34m\u001b[0m\u001b[0m\n\u001b[0m\u001b[1;32m      2\u001b[0m \u001b[0mapi\u001b[0m \u001b[0;34m=\u001b[0m \u001b[0mKaggleApi\u001b[0m\u001b[0;34m(\u001b[0m\u001b[0;34m)\u001b[0m\u001b[0;34m\u001b[0m\u001b[0;34m\u001b[0m\u001b[0m\n\u001b[1;32m      3\u001b[0m \u001b[0mapi\u001b[0m\u001b[0;34m.\u001b[0m\u001b[0mauthenticate\u001b[0m\u001b[0;34m(\u001b[0m\u001b[0;34m)\u001b[0m\u001b[0;34m\u001b[0m\u001b[0;34m\u001b[0m\u001b[0m\n",
            "\u001b[0;32m/usr/local/lib/python3.7/dist-packages/kaggle/__init__.py\u001b[0m in \u001b[0;36m<module>\u001b[0;34m()\u001b[0m\n\u001b[1;32m     21\u001b[0m \u001b[0;34m\u001b[0m\u001b[0m\n\u001b[1;32m     22\u001b[0m \u001b[0mapi\u001b[0m \u001b[0;34m=\u001b[0m \u001b[0mKaggleApi\u001b[0m\u001b[0;34m(\u001b[0m\u001b[0mApiClient\u001b[0m\u001b[0;34m(\u001b[0m\u001b[0;34m)\u001b[0m\u001b[0;34m)\u001b[0m\u001b[0;34m\u001b[0m\u001b[0;34m\u001b[0m\u001b[0m\n\u001b[0;32m---> 23\u001b[0;31m \u001b[0mapi\u001b[0m\u001b[0;34m.\u001b[0m\u001b[0mauthenticate\u001b[0m\u001b[0;34m(\u001b[0m\u001b[0;34m)\u001b[0m\u001b[0;34m\u001b[0m\u001b[0;34m\u001b[0m\u001b[0m\n\u001b[0m",
            "\u001b[0;32m/usr/local/lib/python3.7/dist-packages/kaggle/api/kaggle_api_extended.py\u001b[0m in \u001b[0;36mauthenticate\u001b[0;34m(self)\u001b[0m\n\u001b[1;32m    164\u001b[0m                 raise IOError('Could not find {}. Make sure it\\'s located in'\n\u001b[1;32m    165\u001b[0m                               ' {}. Or use the environment method.'.format(\n\u001b[0;32m--> 166\u001b[0;31m                                   self.config_file, self.config_dir))\n\u001b[0m\u001b[1;32m    167\u001b[0m \u001b[0;34m\u001b[0m\u001b[0m\n\u001b[1;32m    168\u001b[0m         \u001b[0;31m# Step 3: load into configuration!\u001b[0m\u001b[0;34m\u001b[0m\u001b[0;34m\u001b[0m\u001b[0;34m\u001b[0m\u001b[0m\n",
            "\u001b[0;31mOSError\u001b[0m: Could not find kaggle.json. Make sure it's located in /root/.kaggle. Or use the environment method."
          ]
        }
      ]
    },
    {
      "cell_type": "code",
      "source": [
        "#Second Way\n",
        "#kaggle datasets download -d ahmedkhanak1995/sign-language-gesture-images-dataset\n",
        "#!unzip signs-language-gesture-images-dataset.zip"
      ],
      "metadata": {
        "id": "eJGRxBu97ysQ"
      },
      "execution_count": null,
      "outputs": []
    },
    {
      "cell_type": "code",
      "source": [
        "api.dataset_download_files('ahmedkhanak1995/sign-language-gesture-images-dataset')\n"
      ],
      "metadata": {
        "id": "VygbOd3n4VSP"
      },
      "execution_count": null,
      "outputs": []
    },
    {
      "cell_type": "code",
      "source": [
        "from zipfile import ZipFile\n"
      ],
      "metadata": {
        "id": "UifASqqD7P_u"
      },
      "execution_count": null,
      "outputs": []
    },
    {
      "cell_type": "code",
      "source": [
        "zf = ZipFile('sign-language-gesture-images-dataset.zip')\n",
        "#extracted data is saved in the same directory as notebook\n",
        "zf.extractall('/content/drive/My Drive/Colab Notebooks/Final_Project/data') #path here \n",
        "zf.close()"
      ],
      "metadata": {
        "id": "nw03X7nP4_hr"
      },
      "execution_count": null,
      "outputs": []
    },
    {
      "cell_type": "markdown",
      "source": [
        "## Loading Data\n"
      ],
      "metadata": {
        "id": "JClN9frQ9GmP"
      }
    },
    {
      "cell_type": "code",
      "source": [
        "data = '/content/drive/My Drive/Colab Notebooks/Final_Project/data/Gesture Image Data'"
      ],
      "metadata": {
        "id": "7RYXD93s9JVx"
      },
      "execution_count": 12,
      "outputs": []
    },
    {
      "cell_type": "code",
      "source": [
        "categories = os.listdir(data)"
      ],
      "metadata": {
        "id": "oEpugX3WCc8F"
      },
      "execution_count": 13,
      "outputs": []
    },
    {
      "cell_type": "code",
      "source": [
        "import numpy as np\n",
        "import matplotlib.pyplot as plt\n",
        "import os\n",
        "import cv2\n",
        "from tqdm import tqdm\n",
        "for x in categories:\n",
        "  path = os.path.join(data,x)\n",
        "  for img in os.listdir(path):\n",
        "        img_array = cv2.imread(os.path.join(path,img) ,cv2.IMREAD_GRAYSCALE)  # convert to array\n",
        "        plt.imshow(img_array, cmap='gray')  # graph it\n",
        "        plt.show()  # display!\n",
        "        break  # we just want one for now so break\n",
        "  break  #...and one more!    \n"
      ],
      "metadata": {
        "colab": {
          "base_uri": "https://localhost:8080/",
          "height": 280
        },
        "id": "QE6MIrnqDAXj",
        "outputId": "0b580952-190b-4da4-d45e-ec7a1a1a2008"
      },
      "execution_count": 14,
      "outputs": [
        {
          "output_type": "display_data",
          "data": {
            "text/plain": [
              "<Figure size 432x288 with 1 Axes>"
            ],
            "image/png": "[encoded data removed]"
          },
          "metadata": {
            "needs_background": "light"
          }
        }
      ]
    },
    {
      "cell_type": "code",
      "source": [
        "type(img_array)"
      ],
      "metadata": {
        "colab": {
          "base_uri": "https://localhost:8080/"
        },
        "id": "mPeus17tne_h",
        "outputId": "72997e52-d47a-4ff0-aa68-ed9cf92d12d3"
      },
      "execution_count": 15,
      "outputs": [
        {
          "output_type": "execute_result",
          "data": {
            "text/plain": [
              "numpy.ndarray"
            ]
          },
          "metadata": {},
          "execution_count": 15
        }
      ]
    },
    {
      "cell_type": "code",
      "source": [
        "img_array.shape"
      ],
      "metadata": {
        "colab": {
          "base_uri": "https://localhost:8080/"
        },
        "id": "93x-PTneEIWP",
        "outputId": "b96cd5a5-70c4-408d-ecd1-78834a5c6693"
      },
      "execution_count": 16,
      "outputs": [
        {
          "output_type": "execute_result",
          "data": {
            "text/plain": [
              "(50, 50)"
            ]
          },
          "metadata": {},
          "execution_count": 16
        }
      ]
    },
    {
      "cell_type": "code",
      "source": [
        "training_data = []"
      ],
      "metadata": {
        "id": "sF8SSP2CF7rm"
      },
      "execution_count": 17,
      "outputs": []
    },
    {
      "cell_type": "markdown",
      "source": [
        "Remenber the data is in different folders and the label is the name of the folder"
      ],
      "metadata": {
        "id": "sFMTHXE_I7XI"
      }
    },
    {
      "cell_type": "code",
      "source": [
        "\n",
        "for y in categories:\n",
        "  path = os.path.join(data,y)\n",
        "  for img in os.listdir(path):\n",
        "    try:\n",
        "        img_array = cv2.imread(os.path.join(path,img) ,cv2.IMREAD_GRAYSCALE)\n",
        "        new_array = cv2.resize(img_array,(50,50))  # convert to array\n",
        "        training_data.append([new_array, y])\n",
        "    except Exception as e:\n",
        "      pass\n"
      ],
      "metadata": {
        "id": "4ctSwNz8FhAi"
      },
      "execution_count": 18,
      "outputs": []
    },
    {
      "cell_type": "code",
      "source": [
        "len(training_data)"
      ],
      "metadata": {
        "colab": {
          "base_uri": "https://localhost:8080/"
        },
        "id": "lIEzGmyKJ5KY",
        "outputId": "d90c1548-20b2-48bb-d96b-3f43cd179ca7"
      },
      "execution_count": 19,
      "outputs": [
        {
          "output_type": "execute_result",
          "data": {
            "text/plain": [
              "55486"
            ]
          },
          "metadata": {},
          "execution_count": 19
        }
      ]
    },
    {
      "cell_type": "code",
      "source": [
        "training_data[1]"
      ],
      "metadata": {
        "id": "ZhZPQi-POnXI",
        "colab": {
          "base_uri": "https://localhost:8080/"
        },
        "outputId": "472f44b7-061e-4bfc-facb-fbb3e2710dbb"
      },
      "execution_count": 20,
      "outputs": [
        {
          "output_type": "execute_result",
          "data": {
            "text/plain": [
              "[array([[ 97, 100,  97, ..., 116, 118, 117],\n",
              "        [ 96,  99,  97, ..., 118, 118, 118],\n",
              "        [ 96,  99,  97, ..., 116, 115, 115],\n",
              "        ...,\n",
              "        [ 85,  86,  85, ...,  89,  89,  90],\n",
              "        [ 88,  85,  84, ...,  89,  89,  88],\n",
              "        [ 87,  84,  84, ...,  90,  90,  89]], dtype=uint8), '0']"
            ]
          },
          "metadata": {},
          "execution_count": 20
        }
      ]
    },
    {
      "cell_type": "code",
      "source": [
        "import random \n",
        "\n",
        "random.shuffle(training_data)"
      ],
      "metadata": {
        "id": "CU8vHzGOGUQV"
      },
      "execution_count": 21,
      "outputs": []
    },
    {
      "cell_type": "code",
      "source": [
        "training_data[1]"
      ],
      "metadata": {
        "colab": {
          "base_uri": "https://localhost:8080/"
        },
        "id": "zIWcAj2jSmlP",
        "outputId": "257b157d-0bde-4f55-f996-185386220dc3"
      },
      "execution_count": 22,
      "outputs": [
        {
          "output_type": "execute_result",
          "data": {
            "text/plain": [
              "[array([[170, 170, 173, ..., 178, 176, 176],\n",
              "        [169, 168, 170, ..., 177, 177, 177],\n",
              "        [169, 175, 156, ..., 177, 177, 177],\n",
              "        ...,\n",
              "        [175, 175, 176, ..., 197, 195, 195],\n",
              "        [173, 176, 175, ..., 196, 194, 193],\n",
              "        [173, 176, 175, ..., 196, 194, 193]], dtype=uint8), 'I']"
            ]
          },
          "metadata": {},
          "execution_count": 22
        }
      ]
    },
    {
      "cell_type": "code",
      "source": [
        "type(training_data)"
      ],
      "metadata": {
        "colab": {
          "base_uri": "https://localhost:8080/"
        },
        "id": "nXPrl_D-QEKl",
        "outputId": "fe101731-ef38-4c2d-9a04-60450034e5a2"
      },
      "execution_count": 23,
      "outputs": [
        {
          "output_type": "execute_result",
          "data": {
            "text/plain": [
              "list"
            ]
          },
          "metadata": {},
          "execution_count": 23
        }
      ]
    },
    {
      "cell_type": "code",
      "source": [
        "X = []\n",
        "Y = []\n",
        "\n",
        "for features,label in training_data:\n",
        "    X.append(features)\n",
        "    Y.append(label)\n",
        "\n"
      ],
      "metadata": {
        "id": "BOLzv4rCG_js"
      },
      "execution_count": 24,
      "outputs": []
    },
    {
      "cell_type": "code",
      "source": [
        "X = np.array(X)\n",
        "Y = np.array(Y)"
      ],
      "metadata": {
        "id": "HfImU_BvIVJU"
      },
      "execution_count": 25,
      "outputs": []
    },
    {
      "cell_type": "code",
      "source": [
        "X.shape[1:]"
      ],
      "metadata": {
        "colab": {
          "base_uri": "https://localhost:8080/"
        },
        "id": "z3PK1_fD5pvt",
        "outputId": "7fbdd1bc-0928-404e-af1b-998440dad566"
      },
      "execution_count": 96,
      "outputs": [
        {
          "output_type": "execute_result",
          "data": {
            "text/plain": [
              "(50, 50, 1)"
            ]
          },
          "metadata": {},
          "execution_count": 96
        }
      ]
    },
    {
      "cell_type": "code",
      "source": [
        "Y"
      ],
      "metadata": {
        "colab": {
          "base_uri": "https://localhost:8080/"
        },
        "id": "yM_Wj6WKkmR7",
        "outputId": "e5e3d390-69b9-46e8-bfd2-d99c3c12e06a"
      },
      "execution_count": 52,
      "outputs": [
        {
          "output_type": "execute_result",
          "data": {
            "text/plain": [
              "array(['C', 'I', 'J', ..., 'X', 'V', 'D'], dtype='<U1')"
            ]
          },
          "metadata": {},
          "execution_count": 52
        }
      ]
    },
    {
      "cell_type": "code",
      "source": [
        "transdict = {'_':1,\n",
        "    '0':2,\n",
        "    '1':3,\n",
        "    '2':4,\n",
        "    '3':5,\n",
        "    '4':6,\n",
        "    '5':7,\n",
        "    '6':8,\n",
        "    '7':9,\n",
        "    '8':10,\n",
        "    '9':11,\n",
        "    'A':12,\n",
        "    'B':13,\n",
        "    'C':14,\n",
        "    'D':15,\n",
        "    'E':16,\n",
        "    'F':17,\n",
        "    'G':18,\n",
        "    'H':19,\n",
        "    'I':20,\n",
        "    'J':21,\n",
        "    'K':22,\n",
        "    'L':23,\n",
        "    'M':24,\n",
        "    'N':25,\n",
        "    'O':26,\n",
        "    'P':27,\n",
        "    'Q':28,\n",
        "    'R':29,\n",
        "    'S':30,\n",
        "    'T':31,\n",
        "    'U':32,\n",
        "    'V':33,\n",
        "    'W':34,\n",
        "    'X':35,\n",
        "    'Y':36,\n",
        "    'Z':37,\n",
        "}\n",
        "\n",
        "transform_Y = [transdict[letter] for letter in Y]"
      ],
      "metadata": {
        "id": "idUJhVBnknVy"
      },
      "execution_count": 53,
      "outputs": []
    },
    {
      "cell_type": "code",
      "source": [
        "len(transform_Y)"
      ],
      "metadata": {
        "colab": {
          "base_uri": "https://localhost:8080/"
        },
        "id": "BNBq-ZROn_fr",
        "outputId": "a5d55091-36e3-4531-c6fd-36c2d4d22f0f"
      },
      "execution_count": 77,
      "outputs": [
        {
          "output_type": "execute_result",
          "data": {
            "text/plain": [
              "55486"
            ]
          },
          "metadata": {},
          "execution_count": 77
        }
      ]
    },
    {
      "cell_type": "code",
      "source": [
        "#transform_Y"
      ],
      "metadata": {
        "id": "p_ROXKh-oJGA"
      },
      "execution_count": 83,
      "outputs": []
    },
    {
      "cell_type": "code",
      "source": [
        "Y = np.array(transform_Y)"
      ],
      "metadata": {
        "id": "ITPjIvUBlM2C"
      },
      "execution_count": 104,
      "outputs": []
    },
    {
      "cell_type": "code",
      "source": [
        "type(X)"
      ],
      "metadata": {
        "colab": {
          "base_uri": "https://localhost:8080/"
        },
        "id": "Qrl3RTDwIaat",
        "outputId": "3335f6c0-5ac0-4749-9efb-b1a7c4407c3c"
      },
      "execution_count": 105,
      "outputs": [
        {
          "output_type": "execute_result",
          "data": {
            "text/plain": [
              "numpy.ndarray"
            ]
          },
          "metadata": {},
          "execution_count": 105
        }
      ]
    },
    {
      "cell_type": "code",
      "source": [
        "Y\n"
      ],
      "metadata": {
        "colab": {
          "base_uri": "https://localhost:8080/"
        },
        "id": "XzBhcmBC2ome",
        "outputId": "ff4ab828-309e-4573-fa68-58a4650142b7"
      },
      "execution_count": 111,
      "outputs": [
        {
          "output_type": "execute_result",
          "data": {
            "text/plain": [
              "array([14, 20, 21, ..., 35, 33, 15])"
            ]
          },
          "metadata": {},
          "execution_count": 111
        }
      ]
    },
    {
      "cell_type": "markdown",
      "source": [
        "We may need to impleted this, I cant run the model using the Y shape I have. I dont understand why we would have to do the binary class matrix\n",
        "https://www.tensorflow.org/api_docs/python/tf/keras/utils/to_categorical"
      ],
      "metadata": {
        "id": "FHTC907G8Aeb"
      }
    },
    {
      "cell_type": "markdown",
      "source": [
        "![image.png](data:image/png;base64,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)"
      ],
      "metadata": {
        "id": "6IDgHfs679k4"
      }
    },
    {
      "cell_type": "code",
      "source": [
        "# Making it 3D \n",
        "X = np.array(X).reshape(-1,50,50,1)\n",
        "# Normalizing\n",
        "X = X/255"
      ],
      "metadata": {
        "id": "FtGGQuQkp0_9"
      },
      "execution_count": 27,
      "outputs": []
    },
    {
      "cell_type": "code",
      "source": [
        "X.shape"
      ],
      "metadata": {
        "colab": {
          "base_uri": "https://localhost:8080/"
        },
        "id": "z2s62QRSJc3n",
        "outputId": "e8df773d-8560-4f1e-f22b-cea30d750929"
      },
      "execution_count": 28,
      "outputs": [
        {
          "output_type": "execute_result",
          "data": {
            "text/plain": [
              "(55486, 50, 50, 1)"
            ]
          },
          "metadata": {},
          "execution_count": 28
        }
      ]
    },
    {
      "cell_type": "code",
      "source": [
        "Y.shape"
      ],
      "metadata": {
        "colab": {
          "base_uri": "https://localhost:8080/"
        },
        "id": "G6gdO4U-pLlI",
        "outputId": "3e75df23-2e3f-4a75-809f-999ffd0a87a8"
      },
      "execution_count": 76,
      "outputs": [
        {
          "output_type": "execute_result",
          "data": {
            "text/plain": [
              "(55486,)"
            ]
          },
          "metadata": {},
          "execution_count": 76
        }
      ]
    },
    {
      "cell_type": "markdown",
      "source": [
        "## Saving Data "
      ],
      "metadata": {
        "id": "Kbmdu_ZfPQDx"
      }
    },
    {
      "cell_type": "code",
      "source": [
        "import pickle\n",
        "\n",
        "pickle_out = open(\"X.pickle\",\"wb\")\n",
        "pickle.dump(X, pickle_out)\n",
        "pickle_out.close()\n",
        "\n",
        "pickle_out = open(\"y.pickle\",\"wb\")\n",
        "pickle.dump(Y, pickle_out)\n",
        "pickle_out.close()"
      ],
      "metadata": {
        "id": "K_7mK92jPRb9"
      },
      "execution_count": 57,
      "outputs": []
    },
    {
      "cell_type": "markdown",
      "source": [
        "## Getting the Training, Validation and Test Dataset"
      ],
      "metadata": {
        "id": "Ox77VNHxI13l"
      }
    },
    {
      "cell_type": "code",
      "source": [
        "X = pickle.load(open('X.pickle','rb'))\n",
        "Y = pickle.load(open('y.pickle','rb'))"
      ],
      "metadata": {
        "id": "6LVeDM9cQwxi"
      },
      "execution_count": 58,
      "outputs": []
    },
    {
      "cell_type": "code",
      "source": [
        "from sklearn.model_selection import train_test_split\n",
        "X_train, X_test, y_train, y_test  = train_test_split(X, Y, test_size=0.3, random_state=random_seed, stratify=Y)\n",
        "\n",
        "# We may dont need this because we can do a validation split in the model.fit\n",
        "X_train, X_val, y_train, y_val = train_test_split(X_train, y_train, test_size=0.3, random_state=random_seed, stratify=y_train)"
      ],
      "metadata": {
        "id": "Ra1wSZOHJa_g"
      },
      "execution_count": 106,
      "outputs": []
    },
    {
      "cell_type": "code",
      "source": [
        "y_train.shape #this shape may be wrong"
      ],
      "metadata": {
        "colab": {
          "base_uri": "https://localhost:8080/"
        },
        "id": "EdnQY8ZajaZe",
        "outputId": "4bf4a854-e8c4-467c-e969-9e2aabe0f0cf"
      },
      "execution_count": 107,
      "outputs": [
        {
          "output_type": "execute_result",
          "data": {
            "text/plain": [
              "(27188,)"
            ]
          },
          "metadata": {},
          "execution_count": 107
        }
      ]
    },
    {
      "cell_type": "code",
      "source": [
        "X_train.shape"
      ],
      "metadata": {
        "colab": {
          "base_uri": "https://localhost:8080/"
        },
        "id": "QmMY8Z9mS83Q",
        "outputId": "fbacc2aa-91a3-4c8e-dece-ee791a870696"
      },
      "execution_count": 38,
      "outputs": [
        {
          "output_type": "execute_result",
          "data": {
            "text/plain": [
              "(27188, 50, 50, 1)"
            ]
          },
          "metadata": {},
          "execution_count": 38
        }
      ]
    },
    {
      "cell_type": "code",
      "source": [
        "X_val.shape"
      ],
      "metadata": {
        "colab": {
          "base_uri": "https://localhost:8080/"
        },
        "id": "-TrKM-7VVJqO",
        "outputId": "86f1c662-1723-40d3-82db-bd5afa49cc7b"
      },
      "execution_count": 39,
      "outputs": [
        {
          "output_type": "execute_result",
          "data": {
            "text/plain": [
              "(11652, 50, 50, 1)"
            ]
          },
          "metadata": {},
          "execution_count": 39
        }
      ]
    },
    {
      "cell_type": "code",
      "source": [
        "X_test.shape"
      ],
      "metadata": {
        "colab": {
          "base_uri": "https://localhost:8080/"
        },
        "id": "MO2GDE97VLz2",
        "outputId": "0b52b48a-2c54-4c6c-f956-9a7e6c6f218b"
      },
      "execution_count": 40,
      "outputs": [
        {
          "output_type": "execute_result",
          "data": {
            "text/plain": [
              "(16646, 50, 50, 1)"
            ]
          },
          "metadata": {},
          "execution_count": 40
        }
      ]
    },
    {
      "cell_type": "markdown",
      "source": [
        "## Transforming Array to Tensor Dataset "
      ],
      "metadata": {
        "id": "1eicwbYqS9ba"
      }
    },
    {
      "cell_type": "code",
      "source": [
        "data_train = tf.data.Dataset.from_tensor_slices((X_train, y_train))\n",
        "data_valid = tf.data.Dataset.from_tensor_slices((X_train, y_train))\n",
        "data_test = tf.data.Dataset.from_tensor_slices((X_test, y_test))"
      ],
      "metadata": {
        "id": "SR7KDp6HTbh_"
      },
      "execution_count": 68,
      "outputs": []
    },
    {
      "cell_type": "code",
      "source": [
        "type(data_train)"
      ],
      "metadata": {
        "id": "e243-H7ramiR",
        "colab": {
          "base_uri": "https://localhost:8080/"
        },
        "outputId": "423074a5-5169-4b02-84da-b3b321609bad"
      },
      "execution_count": 42,
      "outputs": [
        {
          "output_type": "execute_result",
          "data": {
            "text/plain": [
              "tensorflow.python.data.ops.dataset_ops.TensorSliceDataset"
            ]
          },
          "metadata": {},
          "execution_count": 42
        }
      ]
    },
    {
      "cell_type": "code",
      "source": [
        "# Set the batch size\n",
        "batch_size = 20\n",
        "\n",
        "# Batch and prefetch the training data\n",
        "data_train = data_train.batch(batch_size).prefetch(1)\n",
        "\n",
        "# Batch and prefetch the validation data\n",
        "data_valid = data_valid.batch(batch_size).prefetch(1)\n",
        "\n",
        "# Batch and prefetch the test data\n",
        "data_test = data_test.batch(batch_size).prefetch(1)"
      ],
      "metadata": {
        "id": "RtUab1JMw78J"
      },
      "execution_count": 62,
      "outputs": []
    },
    {
      "cell_type": "markdown",
      "source": [
        "## Training "
      ],
      "metadata": {
        "id": "gYzrWlEhxzhK"
      }
    },
    {
      "cell_type": "code",
      "source": [
        "# Make directory\n",
        "directory = os.path.dirname(abspath_curr + '/result/model/')\n",
        "if not os.path.exists(directory):\n",
        "    os.makedirs(directory)"
      ],
      "metadata": {
        "id": "dxI4m2Ebx1qE"
      },
      "execution_count": 63,
      "outputs": []
    },
    {
      "cell_type": "markdown",
      "source": [
        "### Building Model"
      ],
      "metadata": {
        "id": "DBaWrSi1Ze3r"
      }
    },
    {
      "cell_type": "code",
      "source": [
        "model = keras.models.Sequential([\n",
        "    keras.layers.Conv2D(32, 5, activation='relu', input_shape=(50, 50, 1)),\n",
        "    keras.layers.MaxPooling2D(2),\n",
        "    keras.layers.Conv2D(64, 2, activation='relu'),\n",
        "    keras.layers.Conv2D(64, 2, activation='relu'),\n",
        "    keras.layers.MaxPooling2D(2),\n",
        "    keras.layers.Conv2D(128, 2, activation='relu'),\n",
        "    keras.layers.Conv2D(128, 2, activation='relu'),\n",
        "    keras.layers.MaxPooling2D(2),\n",
        "    keras.layers.Flatten(),\n",
        "    keras.layers.Dense(64, activation='relu'),\n",
        "    keras.layers.Dropout(0.5),\n",
        "    keras.layers.Dense(32, activation='relu'),\n",
        "    keras.layers.Dropout(0.5),\n",
        "    keras.layers.Dense(10, activation='softmax')\n",
        "])"
      ],
      "metadata": {
        "id": "mBLN7gGrbDmx"
      },
      "execution_count": 101,
      "outputs": []
    },
    {
      "cell_type": "code",
      "source": [
        "# Compile the model\n",
        "model.compile(optimizer= 'adam',\n",
        "              loss='categorical_crossentropy',\n",
        "              metrics=['accuracy'])"
      ],
      "metadata": {
        "id": "4lhaTqLhbHMg"
      },
      "execution_count": 102,
      "outputs": []
    },
    {
      "cell_type": "markdown",
      "source": [
        "## Using Arrays (Doesnt Work)"
      ],
      "metadata": {
        "id": "v0opKSfL3CjJ"
      }
    },
    {
      "cell_type": "code",
      "source": [
        "X.shape"
      ],
      "metadata": {
        "colab": {
          "base_uri": "https://localhost:8080/"
        },
        "id": "fAMh7HeW31zl",
        "outputId": "dab8a53f-b1d5-4c55-a3e6-20a79da3070c"
      },
      "execution_count": 109,
      "outputs": [
        {
          "output_type": "execute_result",
          "data": {
            "text/plain": [
              "(55486, 50, 50, 1)"
            ]
          },
          "metadata": {},
          "execution_count": 109
        }
      ]
    },
    {
      "cell_type": "code",
      "source": [
        "Y.shape"
      ],
      "metadata": {
        "colab": {
          "base_uri": "https://localhost:8080/"
        },
        "id": "GvX8Wsgi4CsO",
        "outputId": "51c94431-e549-4ff8-ff26-ed1264c0a326"
      },
      "execution_count": 108,
      "outputs": [
        {
          "output_type": "execute_result",
          "data": {
            "text/plain": [
              "(55486,)"
            ]
          },
          "metadata": {},
          "execution_count": 108
        }
      ]
    },
    {
      "cell_type": "code",
      "source": [
        "model.fit(X,Y, batch_size = 32, epochs = 3,validation_split = 0.3)"
      ],
      "metadata": {
        "colab": {
          "base_uri": "https://localhost:8080/",
          "height": 745
        },
        "id": "J8ymtqkH20sm",
        "outputId": "4ec5b9f8-b76e-4e4e-c570-27c50c6f30f5"
      },
      "execution_count": 110,
      "outputs": [
        {
          "output_type": "stream",
          "name": "stdout",
          "text": [
            "Epoch 1/3\n"
          ]
        },
        {
          "output_type": "error",
          "ename": "ValueError",
          "evalue": "ignored",
          "traceback": [
            "\u001b[0;31m---------------------------------------------------------------------------\u001b[0m",
            "\u001b[0;31mValueError\u001b[0m                                Traceback (most recent call last)",
            "\u001b[0;32m<ipython-input-110-c1aa11bdf651>\u001b[0m in \u001b[0;36m<module>\u001b[0;34m()\u001b[0m\n\u001b[0;32m----> 1\u001b[0;31m \u001b[0mmodel\u001b[0m\u001b[0;34m.\u001b[0m\u001b[0mfit\u001b[0m\u001b[0;34m(\u001b[0m\u001b[0mX\u001b[0m\u001b[0;34m,\u001b[0m\u001b[0mY\u001b[0m\u001b[0;34m,\u001b[0m \u001b[0mbatch_size\u001b[0m \u001b[0;34m=\u001b[0m \u001b[0;36m32\u001b[0m\u001b[0;34m,\u001b[0m \u001b[0mepochs\u001b[0m \u001b[0;34m=\u001b[0m \u001b[0;36m3\u001b[0m\u001b[0;34m,\u001b[0m\u001b[0mvalidation_split\u001b[0m \u001b[0;34m=\u001b[0m \u001b[0;36m0.3\u001b[0m\u001b[0;34m)\u001b[0m\u001b[0;34m\u001b[0m\u001b[0;34m\u001b[0m\u001b[0m\n\u001b[0m",
            "\u001b[0;32m/usr/local/lib/python3.7/dist-packages/keras/utils/traceback_utils.py\u001b[0m in \u001b[0;36merror_handler\u001b[0;34m(*args, **kwargs)\u001b[0m\n\u001b[1;32m     65\u001b[0m     \u001b[0;32mexcept\u001b[0m \u001b[0mException\u001b[0m \u001b[0;32mas\u001b[0m \u001b[0me\u001b[0m\u001b[0;34m:\u001b[0m  \u001b[0;31m# pylint: disable=broad-except\u001b[0m\u001b[0;34m\u001b[0m\u001b[0;34m\u001b[0m\u001b[0m\n\u001b[1;32m     66\u001b[0m       \u001b[0mfiltered_tb\u001b[0m \u001b[0;34m=\u001b[0m \u001b[0m_process_traceback_frames\u001b[0m\u001b[0;34m(\u001b[0m\u001b[0me\u001b[0m\u001b[0;34m.\u001b[0m\u001b[0m__traceback__\u001b[0m\u001b[0;34m)\u001b[0m\u001b[0;34m\u001b[0m\u001b[0;34m\u001b[0m\u001b[0m\n\u001b[0;32m---> 67\u001b[0;31m       \u001b[0;32mraise\u001b[0m \u001b[0me\u001b[0m\u001b[0;34m.\u001b[0m\u001b[0mwith_traceback\u001b[0m\u001b[0;34m(\u001b[0m\u001b[0mfiltered_tb\u001b[0m\u001b[0;34m)\u001b[0m \u001b[0;32mfrom\u001b[0m \u001b[0;32mNone\u001b[0m\u001b[0;34m\u001b[0m\u001b[0;34m\u001b[0m\u001b[0m\n\u001b[0m\u001b[1;32m     68\u001b[0m     \u001b[0;32mfinally\u001b[0m\u001b[0;34m:\u001b[0m\u001b[0;34m\u001b[0m\u001b[0;34m\u001b[0m\u001b[0m\n\u001b[1;32m     69\u001b[0m       \u001b[0;32mdel\u001b[0m \u001b[0mfiltered_tb\u001b[0m\u001b[0;34m\u001b[0m\u001b[0;34m\u001b[0m\u001b[0m\n",
            "\u001b[0;32m/usr/local/lib/python3.7/dist-packages/tensorflow/python/framework/func_graph.py\u001b[0m in \u001b[0;36mautograph_handler\u001b[0;34m(*args, **kwargs)\u001b[0m\n\u001b[1;32m   1145\u001b[0m           \u001b[0;32mexcept\u001b[0m \u001b[0mException\u001b[0m \u001b[0;32mas\u001b[0m \u001b[0me\u001b[0m\u001b[0;34m:\u001b[0m  \u001b[0;31m# pylint:disable=broad-except\u001b[0m\u001b[0;34m\u001b[0m\u001b[0;34m\u001b[0m\u001b[0m\n\u001b[1;32m   1146\u001b[0m             \u001b[0;32mif\u001b[0m \u001b[0mhasattr\u001b[0m\u001b[0;34m(\u001b[0m\u001b[0me\u001b[0m\u001b[0;34m,\u001b[0m \u001b[0;34m\"ag_error_metadata\"\u001b[0m\u001b[0;34m)\u001b[0m\u001b[0;34m:\u001b[0m\u001b[0;34m\u001b[0m\u001b[0;34m\u001b[0m\u001b[0m\n\u001b[0;32m-> 1147\u001b[0;31m               \u001b[0;32mraise\u001b[0m \u001b[0me\u001b[0m\u001b[0;34m.\u001b[0m\u001b[0mag_error_metadata\u001b[0m\u001b[0;34m.\u001b[0m\u001b[0mto_exception\u001b[0m\u001b[0;34m(\u001b[0m\u001b[0me\u001b[0m\u001b[0;34m)\u001b[0m\u001b[0;34m\u001b[0m\u001b[0;34m\u001b[0m\u001b[0m\n\u001b[0m\u001b[1;32m   1148\u001b[0m             \u001b[0;32melse\u001b[0m\u001b[0;34m:\u001b[0m\u001b[0;34m\u001b[0m\u001b[0;34m\u001b[0m\u001b[0m\n\u001b[1;32m   1149\u001b[0m               \u001b[0;32mraise\u001b[0m\u001b[0;34m\u001b[0m\u001b[0;34m\u001b[0m\u001b[0m\n",
            "\u001b[0;31mValueError\u001b[0m: in user code:\n\n    File \"/usr/local/lib/python3.7/dist-packages/keras/engine/training.py\", line 1021, in train_function  *\n        return step_function(self, iterator)\n    File \"/usr/local/lib/python3.7/dist-packages/keras/engine/training.py\", line 1010, in step_function  **\n        outputs = model.distribute_strategy.run(run_step, args=(data,))\n    File \"/usr/local/lib/python3.7/dist-packages/keras/engine/training.py\", line 1000, in run_step  **\n        outputs = model.train_step(data)\n    File \"/usr/local/lib/python3.7/dist-packages/keras/engine/training.py\", line 860, in train_step\n        loss = self.compute_loss(x, y, y_pred, sample_weight)\n    File \"/usr/local/lib/python3.7/dist-packages/keras/engine/training.py\", line 919, in compute_loss\n        y, y_pred, sample_weight, regularization_losses=self.losses)\n    File \"/usr/local/lib/python3.7/dist-packages/keras/engine/compile_utils.py\", line 201, in __call__\n        loss_value = loss_obj(y_t, y_p, sample_weight=sw)\n    File \"/usr/local/lib/python3.7/dist-packages/keras/losses.py\", line 141, in __call__\n        losses = call_fn(y_true, y_pred)\n    File \"/usr/local/lib/python3.7/dist-packages/keras/losses.py\", line 245, in call  **\n        return ag_fn(y_true, y_pred, **self._fn_kwargs)\n    File \"/usr/local/lib/python3.7/dist-packages/keras/losses.py\", line 1790, in categorical_crossentropy\n        y_true, y_pred, from_logits=from_logits, axis=axis)\n    File \"/usr/local/lib/python3.7/dist-packages/keras/backend.py\", line 5083, in categorical_crossentropy\n        target.shape.assert_is_compatible_with(output.shape)\n\n    ValueError: Shapes (None, 1) and (None, 10) are incompatible\n"
          ]
        }
      ]
    },
    {
      "cell_type": "markdown",
      "source": [
        "## Using TensorSlide Dataset (Doesnt work)"
      ],
      "metadata": {
        "id": "_hGqxfk323us"
      }
    },
    {
      "cell_type": "code",
      "source": [
        "# ModelCheckpoint callback\n",
        "model_checkpoint_cb = keras.callbacks.ModelCheckpoint(filepath=abspath_curr + '/result/model/model_final',\n",
        "                                                      save_best_only=True,\n",
        "                                                      save_weights_only=True)\n",
        "\n",
        "# EarlyStopping callback\n",
        "early_stopping_cb = keras.callbacks.EarlyStopping(patience=5,\n",
        "                                                  restore_best_weights=True)\n",
        "\n",
        "# ReduceLROnPlateau callback\n",
        "reduce_lr_on_plateau_cb = keras.callbacks.ReduceLROnPlateau(factor=0.1,\n",
        "                                                            patience=2)"
      ],
      "metadata": {
        "id": "1KTR44jIbHhX"
      },
      "execution_count": 72,
      "outputs": []
    },
    {
      "cell_type": "code",
      "source": [
        "# Train, evaluate and save the best model\n",
        "history = model.fit(data_train,\n",
        "                    epochs=5,\n",
        "                    validation_data=data_valid,\n",
        "                    callbacks=[model_checkpoint_cb,\n",
        "                               early_stopping_cb,\n",
        "                               reduce_lr_on_plateau_cb])"
      ],
      "metadata": {
        "colab": {
          "base_uri": "https://localhost:8080/",
          "height": 782
        },
        "id": "iQw-0ooYb60_",
        "outputId": "d81b1af2-9c56-4c10-fecb-12900109be01"
      },
      "execution_count": 82,
      "outputs": [
        {
          "output_type": "stream",
          "name": "stdout",
          "text": [
            "Epoch 1/5\n",
            "WARNING:tensorflow:Model was constructed with shape (None, 50, 50, 1) for input KerasTensor(type_spec=TensorSpec(shape=(None, 50, 50, 1), dtype=tf.float32, name='conv2d_10_input'), name='conv2d_10_input', description=\"created by layer 'conv2d_10_input'\"), but it was called on an input with incompatible shape (50, 50, 1, 1).\n"
          ]
        },
        {
          "output_type": "error",
          "ename": "ValueError",
          "evalue": "ignored",
          "traceback": [
            "\u001b[0;31m---------------------------------------------------------------------------\u001b[0m",
            "\u001b[0;31mValueError\u001b[0m                                Traceback (most recent call last)",
            "\u001b[0;32m<ipython-input-82-cdcdea756d56>\u001b[0m in \u001b[0;36m<module>\u001b[0;34m()\u001b[0m\n\u001b[1;32m      5\u001b[0m                     callbacks=[model_checkpoint_cb,\n\u001b[1;32m      6\u001b[0m                                \u001b[0mearly_stopping_cb\u001b[0m\u001b[0;34m,\u001b[0m\u001b[0;34m\u001b[0m\u001b[0;34m\u001b[0m\u001b[0m\n\u001b[0;32m----> 7\u001b[0;31m                                reduce_lr_on_plateau_cb])\n\u001b[0m",
            "\u001b[0;32m/usr/local/lib/python3.7/dist-packages/keras/utils/traceback_utils.py\u001b[0m in \u001b[0;36merror_handler\u001b[0;34m(*args, **kwargs)\u001b[0m\n\u001b[1;32m     65\u001b[0m     \u001b[0;32mexcept\u001b[0m \u001b[0mException\u001b[0m \u001b[0;32mas\u001b[0m \u001b[0me\u001b[0m\u001b[0;34m:\u001b[0m  \u001b[0;31m# pylint: disable=broad-except\u001b[0m\u001b[0;34m\u001b[0m\u001b[0;34m\u001b[0m\u001b[0m\n\u001b[1;32m     66\u001b[0m       \u001b[0mfiltered_tb\u001b[0m \u001b[0;34m=\u001b[0m \u001b[0m_process_traceback_frames\u001b[0m\u001b[0;34m(\u001b[0m\u001b[0me\u001b[0m\u001b[0;34m.\u001b[0m\u001b[0m__traceback__\u001b[0m\u001b[0;34m)\u001b[0m\u001b[0;34m\u001b[0m\u001b[0;34m\u001b[0m\u001b[0m\n\u001b[0;32m---> 67\u001b[0;31m       \u001b[0;32mraise\u001b[0m \u001b[0me\u001b[0m\u001b[0;34m.\u001b[0m\u001b[0mwith_traceback\u001b[0m\u001b[0;34m(\u001b[0m\u001b[0mfiltered_tb\u001b[0m\u001b[0;34m)\u001b[0m \u001b[0;32mfrom\u001b[0m \u001b[0;32mNone\u001b[0m\u001b[0;34m\u001b[0m\u001b[0;34m\u001b[0m\u001b[0m\n\u001b[0m\u001b[1;32m     68\u001b[0m     \u001b[0;32mfinally\u001b[0m\u001b[0;34m:\u001b[0m\u001b[0;34m\u001b[0m\u001b[0;34m\u001b[0m\u001b[0m\n\u001b[1;32m     69\u001b[0m       \u001b[0;32mdel\u001b[0m \u001b[0mfiltered_tb\u001b[0m\u001b[0;34m\u001b[0m\u001b[0;34m\u001b[0m\u001b[0m\n",
            "\u001b[0;32m/usr/local/lib/python3.7/dist-packages/tensorflow/python/framework/func_graph.py\u001b[0m in \u001b[0;36mautograph_handler\u001b[0;34m(*args, **kwargs)\u001b[0m\n\u001b[1;32m   1145\u001b[0m           \u001b[0;32mexcept\u001b[0m \u001b[0mException\u001b[0m \u001b[0;32mas\u001b[0m \u001b[0me\u001b[0m\u001b[0;34m:\u001b[0m  \u001b[0;31m# pylint:disable=broad-except\u001b[0m\u001b[0;34m\u001b[0m\u001b[0;34m\u001b[0m\u001b[0m\n\u001b[1;32m   1146\u001b[0m             \u001b[0;32mif\u001b[0m \u001b[0mhasattr\u001b[0m\u001b[0;34m(\u001b[0m\u001b[0me\u001b[0m\u001b[0;34m,\u001b[0m \u001b[0;34m\"ag_error_metadata\"\u001b[0m\u001b[0;34m)\u001b[0m\u001b[0;34m:\u001b[0m\u001b[0;34m\u001b[0m\u001b[0;34m\u001b[0m\u001b[0m\n\u001b[0;32m-> 1147\u001b[0;31m               \u001b[0;32mraise\u001b[0m \u001b[0me\u001b[0m\u001b[0;34m.\u001b[0m\u001b[0mag_error_metadata\u001b[0m\u001b[0;34m.\u001b[0m\u001b[0mto_exception\u001b[0m\u001b[0;34m(\u001b[0m\u001b[0me\u001b[0m\u001b[0;34m)\u001b[0m\u001b[0;34m\u001b[0m\u001b[0;34m\u001b[0m\u001b[0m\n\u001b[0m\u001b[1;32m   1148\u001b[0m             \u001b[0;32melse\u001b[0m\u001b[0;34m:\u001b[0m\u001b[0;34m\u001b[0m\u001b[0;34m\u001b[0m\u001b[0m\n\u001b[1;32m   1149\u001b[0m               \u001b[0;32mraise\u001b[0m\u001b[0;34m\u001b[0m\u001b[0;34m\u001b[0m\u001b[0m\n",
            "\u001b[0;31mValueError\u001b[0m: in user code:\n\n    File \"/usr/local/lib/python3.7/dist-packages/keras/engine/training.py\", line 1021, in train_function  *\n        return step_function(self, iterator)\n    File \"/usr/local/lib/python3.7/dist-packages/keras/engine/training.py\", line 1010, in step_function  **\n        outputs = model.distribute_strategy.run(run_step, args=(data,))\n    File \"/usr/local/lib/python3.7/dist-packages/keras/engine/training.py\", line 1000, in run_step  **\n        outputs = model.train_step(data)\n    File \"/usr/local/lib/python3.7/dist-packages/keras/engine/training.py\", line 859, in train_step\n        y_pred = self(x, training=True)\n    File \"/usr/local/lib/python3.7/dist-packages/keras/utils/traceback_utils.py\", line 67, in error_handler\n        raise e.with_traceback(filtered_tb) from None\n\n    ValueError: Exception encountered when calling layer \"conv2d_10\" (type Conv2D).\n    \n    Negative dimension size caused by subtracting 5 from 1 for '{{node sequential_2/conv2d_10/Conv2D}} = Conv2D[T=DT_FLOAT, data_format=\"NHWC\", dilations=[1, 1, 1, 1], explicit_paddings=[], padding=\"VALID\", strides=[1, 1, 1, 1], use_cudnn_on_gpu=true](sequential_2/Cast, sequential_2/conv2d_10/Conv2D/ReadVariableOp)' with input shapes: [50,50,1,1], [5,5,1,32].\n    \n    Call arguments received:\n      • inputs=tf.Tensor(shape=(50, 50, 1, 1), dtype=float32)\n"
          ]
        }
      ]
    },
    {
      "cell_type": "code",
      "source": [
        "# Make directory\n",
        "directory = os.path.dirname(abspath_curr + '/result/figure/')\n",
        "if not os.path.exists(directory):\n",
        "    os.makedirs(directory)\n"
      ],
      "metadata": {
        "id": "eou-Y_e7b-mX"
      },
      "execution_count": null,
      "outputs": []
    },
    {
      "cell_type": "code",
      "source": [
        "import pandas as pd\n",
        "\n",
        "# Create a figure\n",
        "pd.DataFrame(history.history).plot(figsize=(8, 5))\n",
        "\n",
        "# Save and show the figure\n",
        "plt.tight_layout()\n",
        "plt.savefig(abspath_curr + '/result/figure/learning_curve.pdf')\n",
        "plt.show()"
      ],
      "metadata": {
        "id": "jG_NrMLDb_fH"
      },
      "execution_count": null,
      "outputs": []
    }
  ]
}