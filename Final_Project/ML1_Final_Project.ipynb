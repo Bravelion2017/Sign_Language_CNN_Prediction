{
  "cells": [
    {
      "cell_type": "markdown",
      "metadata": {
        "id": "YCzOflsmBK_u"
      },
      "source": [
        "<b>\n",
        "<p>\n",
        "<center>\n",
        "<font size=\"5\">\n",
        "Sign Language Gesture\n",
        "</font>\n",
        "</center>\n",
        "</p>\n",
        "\n",
        "<p>\n",
        "<center>\n",
        "<font size=\"4\">\n",
        "Convolutional Neural Networks\n",
        "</font>\n",
        "</center>\n",
        "</p>\n",
        "    \n",
        "<p>\n",
        "<center>\n",
        "<font size=\"4\">\n",
        "Final Project\n",
        "</font>\n",
        "</center>\n",
        "</p>\n",
        "\n",
        "<p>\n",
        "<center>\n",
        "<font size=\"3\">\n",
        "Data Science, Columbian College of Arts & Sciences, George Washington University\n",
        "</font>\n",
        "</center>\n",
        "</p>\n",
        "\n",
        "<p>\n",
        "<center>\n",
        "<font size=\"3\">\n",
        "- Ricardo Diaz\n",
        "- Osemekhian Ehilen\n",
        "- Varun Shan\n",
        "</font>\n",
        "</center>\n",
        "</p>\n",
        "</b>"
      ]
    },
    {
      "cell_type": "markdown",
      "metadata": {
        "id": "M7cEvPzSB0CX"
      },
      "source": [
        "## Overview"
      ]
    },
    {
      "cell_type": "markdown",
      "metadata": {
        "id": "bRRIzhsYB-L7"
      },
      "source": [
        "- Here we will work on Signature Language Dataset [Kaggle Link](https://www.kaggle.com/datasets/ahmedkhanak1995/sign-language-gesture-images-dataset).\n",
        "- The goal of this project is to be able to identify correctly the different signed languages where the user can upload images and the CNN model will tell the user which character or number it represents. \n",
        "- Reference for functions:\n",
        "[Github Link Dr.Yuxiao Huang](https://github.com/yuxiaohuang/teaching/blob/master/gwu/machine_learning_I/spring_2022/code/utilities/p2_shallow_learning/pmlm_utilities_shallow.ipynb)\n",
        "\n"
      ]
    },
    {
      "cell_type": "markdown",
      "metadata": {
        "id": "2p8PoUj2EbV8"
      },
      "source": [
        "## Google Drive\n"
      ]
    },
    {
      "cell_type": "code",
      "execution_count": 2,
      "metadata": {
        "colab": {
          "base_uri": "https://localhost:8080/"
        },
        "id": "jaRSN2DaEaRL",
        "outputId": "f6ce967a-6322-4512-ccbd-4b4ac394567a"
      },
      "outputs": [
        {
          "output_type": "stream",
          "name": "stdout",
          "text": [
            "Mounted at /content/drive\n"
          ]
        }
      ],
      "source": [
        "from google.colab import drive\n",
        "import sys\n",
        "\n",
        "# Mount Google Drive\n",
        "drive.mount('/content/drive')\n",
        "\n",
        "# Get the absolute path of the current folder\n",
        "abspath_curr = '/content/drive/My Drive/Colab Notebooks/Final_Project'\n",
        "\n",
        "\n",
        "# Get the absolute path of the deep utilities folder\n",
        "abspath_util_deep = '/content/drive/My Drive/Colab Notebooks/code/utilities/p3_deep_learning/'"
      ]
    },
    {
      "cell_type": "markdown",
      "metadata": {
        "id": "kKjEc5yWGAgQ"
      },
      "source": [
        "## Matplotlib"
      ]
    },
    {
      "cell_type": "code",
      "execution_count": 3,
      "metadata": {
        "id": "g_0q7uRZD49g"
      },
      "outputs": [],
      "source": [
        "import matplotlib.pyplot as plt\n",
        "%matplotlib inline \n",
        "\n",
        "# Set matplotlib sizes\n",
        "plt.rc('font', size=20)\n",
        "plt.rc('axes', titlesize=20)\n",
        "plt.rc('axes', labelsize=20)\n",
        "plt.rc('xtick', labelsize=20)\n",
        "plt.rc('ytick', labelsize=20)\n",
        "plt.rc('legend', fontsize=20)\n",
        "plt.rc('figure', titlesize=20)"
      ]
    },
    {
      "cell_type": "markdown",
      "metadata": {
        "id": "ikJT_pmrGDI-"
      },
      "source": [
        "## Tensorflow"
      ]
    },
    {
      "cell_type": "code",
      "execution_count": 4,
      "metadata": {
        "id": "-m382Vz_GE89"
      },
      "outputs": [],
      "source": [
        "# The magic below allows us to use tensorflow version 2.x\n",
        "%tensorflow_version 2.x \n",
        "import tensorflow as tf\n",
        "from tensorflow import keras"
      ]
    },
    {
      "cell_type": "markdown",
      "metadata": {
        "id": "2eBdre7-GLU3"
      },
      "source": [
        "## Random Seed"
      ]
    },
    {
      "cell_type": "code",
      "execution_count": 5,
      "metadata": {
        "id": "opzYd7YDGMu3"
      },
      "outputs": [],
      "source": [
        "# The random seed\n",
        "random_seed = 42\n",
        "\n",
        "# Set random seed in tensorflow\n",
        "tf.random.set_seed(random_seed)\n",
        "\n",
        "# Set random seed in numpy\n",
        "import numpy as np\n",
        "np.random.seed(random_seed)"
      ]
    },
    {
      "cell_type": "markdown",
      "metadata": {
        "id": "trMov4nMGOge"
      },
      "source": [
        "## Data Preprocessing"
      ]
    },
    {
      "cell_type": "code",
      "execution_count": 6,
      "metadata": {
        "colab": {
          "base_uri": "https://localhost:8080/"
        },
        "id": "6TpcnN6WGR1O",
        "outputId": "2ebe51bd-4e15-4863-baec-da7f85b874a3"
      },
      "outputs": [
        {
          "output_type": "stream",
          "name": "stdout",
          "text": [
            "/content/drive/My Drive/Colab Notebooks/code/utilities/p3_deep_learning\n"
          ]
        }
      ],
      "source": [
        "# Change working directory to the absolute path of the deep utilities folder\n",
        "%cd $abspath_util_deep\n",
        "\n",
        "# Import the deep utitilities\n",
        "%run pmlm_utilities_deep.ipynb"
      ]
    },
    {
      "cell_type": "markdown",
      "metadata": {
        "id": "pKCsv6ScGU8O"
      },
      "source": [
        "## Setting Up Kaggle Api"
      ]
    },
    {
      "cell_type": "code",
      "execution_count": 7,
      "metadata": {
        "colab": {
          "base_uri": "https://localhost:8080/",
          "height": 35
        },
        "id": "9-HLpkMWGWTB",
        "outputId": "be4517fd-6d34-45be-f393-f299441a7725"
      },
      "outputs": [
        {
          "output_type": "execute_result",
          "data": {
            "text/plain": [
              "'/content/drive/My Drive/Colab Notebooks/code/utilities/p3_deep_learning'"
            ],
            "application/vnd.google.colaboratory.intrinsic+json": {
              "type": "string"
            }
          },
          "metadata": {},
          "execution_count": 7
        }
      ],
      "source": [
        "import os\n",
        "os.getcwd()"
      ]
    },
    {
      "cell_type": "code",
      "execution_count": 8,
      "metadata": {
        "colab": {
          "base_uri": "https://localhost:8080/"
        },
        "id": "GhJ6hitc3HNQ",
        "outputId": "3a6c3ea7-094a-4e88-9c61-4ccc5b2599eb"
      },
      "outputs": [
        {
          "output_type": "stream",
          "name": "stdout",
          "text": [
            "Requirement already satisfied: kaggle in /usr/local/lib/python3.7/dist-packages (1.5.12)\n",
            "Requirement already satisfied: certifi in /usr/local/lib/python3.7/dist-packages (from kaggle) (2021.10.8)\n",
            "Requirement already satisfied: tqdm in /usr/local/lib/python3.7/dist-packages (from kaggle) (4.64.0)\n",
            "Requirement already satisfied: python-dateutil in /usr/local/lib/python3.7/dist-packages (from kaggle) (2.8.2)\n",
            "Requirement already satisfied: urllib3 in /usr/local/lib/python3.7/dist-packages (from kaggle) (1.24.3)\n",
            "Requirement already satisfied: requests in /usr/local/lib/python3.7/dist-packages (from kaggle) (2.23.0)\n",
            "Requirement already satisfied: six>=1.10 in /usr/local/lib/python3.7/dist-packages (from kaggle) (1.15.0)\n",
            "Requirement already satisfied: python-slugify in /usr/local/lib/python3.7/dist-packages (from kaggle) (6.1.1)\n",
            "Requirement already satisfied: text-unidecode>=1.3 in /usr/local/lib/python3.7/dist-packages (from python-slugify->kaggle) (1.3)\n",
            "Requirement already satisfied: chardet<4,>=3.0.2 in /usr/local/lib/python3.7/dist-packages (from requests->kaggle) (3.0.4)\n",
            "Requirement already satisfied: idna<3,>=2.5 in /usr/local/lib/python3.7/dist-packages (from requests->kaggle) (2.10)\n"
          ]
        }
      ],
      "source": [
        "!pip install kaggle"
      ]
    },
    {
      "cell_type": "code",
      "execution_count": 9,
      "metadata": {
        "id": "_ps4h1py4FfA"
      },
      "outputs": [],
      "source": [
        "# from google.colab import files\n",
        "\n",
        "# uploaded = files.upload()\n",
        "\n",
        "# for fn in uploaded.keys():\n",
        "#   print('User uploaded file \"{name}\" with length {length} bytes'.format(\n",
        "#       name=fn, length=len(uploaded[fn])))\n",
        "  \n",
        "# # Then move kaggle.json into the folder where the API expects to find it.\n",
        "# !mkdir -p ~/.kaggle/ && mv kaggle.json ~/.kaggle/ && chmod 600 ~/.kaggle/kaggle.json"
      ]
    },
    {
      "cell_type": "code",
      "execution_count": 10,
      "metadata": {
        "id": "KEWLF92q3NYv"
      },
      "outputs": [],
      "source": [
        "# from kaggle.api.kaggle_api_extended import KaggleApi\n",
        "# api = KaggleApi()\n",
        "# api.authenticate()"
      ]
    },
    {
      "cell_type": "code",
      "execution_count": 11,
      "metadata": {
        "id": "eJGRxBu97ysQ"
      },
      "outputs": [],
      "source": [
        "#Second Way\n",
        "#kaggle datasets download -d ahmedkhanak1995/sign-language-gesture-images-dataset\n",
        "#!unzip signs-language-gesture-images-dataset.zip"
      ]
    },
    {
      "cell_type": "code",
      "execution_count": 12,
      "metadata": {
        "id": "VygbOd3n4VSP"
      },
      "outputs": [],
      "source": [
        "# api.dataset_download_files('ahmedkhanak1995/sign-language-gesture-images-dataset')\n"
      ]
    },
    {
      "cell_type": "code",
      "execution_count": 13,
      "metadata": {
        "id": "UifASqqD7P_u"
      },
      "outputs": [],
      "source": [
        "from zipfile import ZipFile\n"
      ]
    },
    {
      "cell_type": "code",
      "execution_count": 14,
      "metadata": {
        "id": "nw03X7nP4_hr"
      },
      "outputs": [],
      "source": [
        "# zf = ZipFile('sign-language-gesture-images-dataset.zip')\n",
        "# #extracted data is saved in the same directory as notebook\n",
        "# zf.extractall('/content/drive/My Drive/Colab Notebooks/Final_Project/data') #path here \n",
        "# zf.close()"
      ]
    },
    {
      "cell_type": "markdown",
      "metadata": {
        "id": "JClN9frQ9GmP"
      },
      "source": [
        "## Loading Data\n"
      ]
    },
    {
      "cell_type": "code",
      "execution_count": 15,
      "metadata": {
        "id": "7RYXD93s9JVx"
      },
      "outputs": [],
      "source": [
        "data = '/content/drive/My Drive/Colab Notebooks/Final_Project/data/Gesture Image Data'"
      ]
    },
    {
      "cell_type": "code",
      "execution_count": 16,
      "metadata": {
        "id": "oEpugX3WCc8F"
      },
      "outputs": [],
      "source": [
        "categories = os.listdir(data)"
      ]
    },
    {
      "cell_type": "code",
      "execution_count": 17,
      "metadata": {
        "colab": {
          "base_uri": "https://localhost:8080/",
          "height": 280
        },
        "id": "QE6MIrnqDAXj",
        "outputId": "2352f043-42d5-4699-e95c-d022662261e1"
      },
      "outputs": [
        {
          "output_type": "display_data",
          "data": {
            "text/plain": [
              "<Figure size 432x288 with 1 Axes>"
            ],
            "image/png": "[encoded data removed]"
          },
          "metadata": {
            "needs_background": "light"
          }
        }
      ],
      "source": [
        "import numpy as np\n",
        "import matplotlib.pyplot as plt\n",
        "import os\n",
        "import cv2\n",
        "from tqdm import tqdm\n",
        "for x in categories:\n",
        "  path = os.path.join(data,x)\n",
        "  for img in os.listdir(path):\n",
        "        img_array = cv2.imread(os.path.join(path,img) ,cv2.IMREAD_GRAYSCALE)  # convert to array\n",
        "        plt.imshow(img_array, cmap='gray')  # graph it\n",
        "        plt.show()  # display!\n",
        "        break  # we just want one for now so break\n",
        "  break  #...and one more!    \n"
      ]
    },
    {
      "cell_type": "code",
      "execution_count": 18,
      "metadata": {
        "colab": {
          "base_uri": "https://localhost:8080/"
        },
        "id": "mPeus17tne_h",
        "outputId": "7e9b7485-b1f4-4be5-d93d-bab997f8e963"
      },
      "outputs": [
        {
          "output_type": "execute_result",
          "data": {
            "text/plain": [
              "numpy.ndarray"
            ]
          },
          "metadata": {},
          "execution_count": 18
        }
      ],
      "source": [
        "type(img_array)"
      ]
    },
    {
      "cell_type": "code",
      "execution_count": 19,
      "metadata": {
        "colab": {
          "base_uri": "https://localhost:8080/"
        },
        "id": "93x-PTneEIWP",
        "outputId": "79ef6276-9aa0-49f6-c34f-e24531075511"
      },
      "outputs": [
        {
          "output_type": "execute_result",
          "data": {
            "text/plain": [
              "(50, 50)"
            ]
          },
          "metadata": {},
          "execution_count": 19
        }
      ],
      "source": [
        "img_array.shape"
      ]
    },
    {
      "cell_type": "code",
      "execution_count": 20,
      "metadata": {
        "id": "sF8SSP2CF7rm"
      },
      "outputs": [],
      "source": [
        "training_data = []"
      ]
    },
    {
      "cell_type": "markdown",
      "metadata": {
        "id": "sFMTHXE_I7XI"
      },
      "source": [
        "Remenber the data is in different folders and the label is the name of the folder"
      ]
    },
    {
      "cell_type": "code",
      "execution_count": 21,
      "metadata": {
        "id": "4ctSwNz8FhAi"
      },
      "outputs": [],
      "source": [
        "\n",
        "for y in categories:\n",
        "  path = os.path.join(data,y)\n",
        "  for img in os.listdir(path):\n",
        "    try:\n",
        "        img_array = cv2.imread(os.path.join(path,img) ,cv2.IMREAD_GRAYSCALE)\n",
        "        new_array = cv2.resize(img_array,(50,50))  # convert to array\n",
        "        training_data.append([new_array, y])\n",
        "    except Exception as e:\n",
        "      pass\n"
      ]
    },
    {
      "cell_type": "code",
      "execution_count": 35,
      "metadata": {
        "id": "lIEzGmyKJ5KY",
        "colab": {
          "base_uri": "https://localhost:8080/"
        },
        "outputId": "551285f2-8338-4345-f8f8-c2b8536564f3"
      },
      "outputs": [
        {
          "output_type": "execute_result",
          "data": {
            "text/plain": [
              "55486"
            ]
          },
          "metadata": {},
          "execution_count": 35
        }
      ],
      "source": [
        "len(training_data)"
      ]
    },
    {
      "cell_type": "code",
      "execution_count": 36,
      "metadata": {
        "id": "ZhZPQi-POnXI",
        "colab": {
          "base_uri": "https://localhost:8080/"
        },
        "outputId": "f0f4613d-3c8b-4712-cf8f-2823aa80a93c"
      },
      "outputs": [
        {
          "output_type": "execute_result",
          "data": {
            "text/plain": [
              "[array([[183, 184, 185, ..., 188, 187, 187],\n",
              "        [183, 184, 185, ..., 187, 185, 185],\n",
              "        [182, 183, 184, ..., 187, 185, 185],\n",
              "        ...,\n",
              "        [169, 170, 170, ..., 180, 179, 178],\n",
              "        [169, 170, 169, ..., 179, 178, 177],\n",
              "        [167, 168, 168, ..., 178, 177, 176]], dtype=uint8), 'R']"
            ]
          },
          "metadata": {},
          "execution_count": 36
        }
      ],
      "source": [
        "training_data[1]"
      ]
    },
    {
      "cell_type": "code",
      "execution_count": 37,
      "metadata": {
        "id": "CU8vHzGOGUQV"
      },
      "outputs": [],
      "source": [
        "import random \n",
        "\n",
        "random.shuffle(training_data)"
      ]
    },
    {
      "cell_type": "code",
      "execution_count": 38,
      "metadata": {
        "id": "zIWcAj2jSmlP",
        "colab": {
          "base_uri": "https://localhost:8080/"
        },
        "outputId": "c9a10662-18a1-4f60-88b3-fbf361b93285"
      },
      "outputs": [
        {
          "output_type": "execute_result",
          "data": {
            "text/plain": [
              "[array([[175, 176, 177, ..., 178, 177, 177],\n",
              "        [175, 176, 177, ..., 178, 178, 178],\n",
              "        [175, 176, 177, ..., 180, 179, 179],\n",
              "        ...,\n",
              "        [175, 176, 177, ..., 186, 186, 186],\n",
              "        [174, 175, 177, ..., 186, 186, 187],\n",
              "        [173, 175, 176, ..., 186, 185, 186]], dtype=uint8), 'V']"
            ]
          },
          "metadata": {},
          "execution_count": 38
        }
      ],
      "source": [
        "training_data[1]"
      ]
    },
    {
      "cell_type": "code",
      "execution_count": 39,
      "metadata": {
        "id": "nXPrl_D-QEKl",
        "colab": {
          "base_uri": "https://localhost:8080/"
        },
        "outputId": "96865bd8-4d01-4a40-d8b7-0d61e9d0e88b"
      },
      "outputs": [
        {
          "output_type": "execute_result",
          "data": {
            "text/plain": [
              "list"
            ]
          },
          "metadata": {},
          "execution_count": 39
        }
      ],
      "source": [
        "type(training_data)"
      ]
    },
    {
      "cell_type": "code",
      "execution_count": 84,
      "metadata": {
        "id": "BOLzv4rCG_js"
      },
      "outputs": [],
      "source": [
        "X = []\n",
        "Y = []\n",
        "\n",
        "for features,label in training_data:\n",
        "    X.append(features)\n",
        "    Y.append(label)"
      ]
    },
    {
      "cell_type": "code",
      "execution_count": 85,
      "metadata": {
        "id": "HfImU_BvIVJU"
      },
      "outputs": [],
      "source": [
        "X = np.array(X)\n",
        "Y = np.array(Y)"
      ]
    },
    {
      "cell_type": "code",
      "execution_count": 86,
      "metadata": {
        "id": "z3PK1_fD5pvt",
        "colab": {
          "base_uri": "https://localhost:8080/"
        },
        "outputId": "3715ae90-7bef-4822-b07b-6534371bbef4"
      },
      "outputs": [
        {
          "output_type": "execute_result",
          "data": {
            "text/plain": [
              "(50, 50)"
            ]
          },
          "metadata": {},
          "execution_count": 86
        }
      ],
      "source": [
        "X.shape[1:]"
      ]
    },
    {
      "cell_type": "code",
      "execution_count": 87,
      "metadata": {
        "id": "yM_Wj6WKkmR7",
        "colab": {
          "base_uri": "https://localhost:8080/"
        },
        "outputId": "6ead38c9-7150-4209-a92e-a82ae427909c"
      },
      "outputs": [
        {
          "output_type": "execute_result",
          "data": {
            "text/plain": [
              "array(['I', 'V', 'Q', ..., 'V', 'M', 'J'], dtype='<U1')"
            ]
          },
          "metadata": {},
          "execution_count": 87
        }
      ],
      "source": [
        "Y"
      ]
    },
    {
      "cell_type": "code",
      "execution_count": 88,
      "metadata": {
        "id": "idUJhVBnknVy"
      },
      "outputs": [],
      "source": [
        "transdict = {'_':1,\n",
        "    '0':2,\n",
        "    '1':3,\n",
        "    '2':4,\n",
        "    '3':5,\n",
        "    '4':6,\n",
        "    '5':7,\n",
        "    '6':8,\n",
        "    '7':9,\n",
        "    '8':10,\n",
        "    '9':11,\n",
        "    'A':12,\n",
        "    'B':13,\n",
        "    'C':14,\n",
        "    'D':15,\n",
        "    'E':16,\n",
        "    'F':17,\n",
        "    'G':18,\n",
        "    'H':19,\n",
        "    'I':20,\n",
        "    'J':21,\n",
        "    'K':22,\n",
        "    'L':23,\n",
        "    'M':24,\n",
        "    'N':25,\n",
        "    'O':26,\n",
        "    'P':27,\n",
        "    'Q':28,\n",
        "    'R':29,\n",
        "    'S':30,\n",
        "    'T':31,\n",
        "    'U':32,\n",
        "    'V':33,\n",
        "    'W':34,\n",
        "    'X':35,\n",
        "    'Y':36,\n",
        "    'Z':37,\n",
        "}\n",
        "\n",
        "transform_Y = [transdict[letter] for letter in Y]"
      ]
    },
    {
      "cell_type": "code",
      "execution_count": 89,
      "metadata": {
        "id": "BNBq-ZROn_fr",
        "colab": {
          "base_uri": "https://localhost:8080/"
        },
        "outputId": "6b445d54-273e-40c1-9d09-37e83cec0b1a"
      },
      "outputs": [
        {
          "output_type": "execute_result",
          "data": {
            "text/plain": [
              "55486"
            ]
          },
          "metadata": {},
          "execution_count": 89
        }
      ],
      "source": [
        "len(transform_Y)"
      ]
    },
    {
      "cell_type": "code",
      "execution_count": 90,
      "metadata": {
        "id": "p_ROXKh-oJGA",
        "colab": {
          "base_uri": "https://localhost:8080/"
        },
        "outputId": "fc62989e-4646-48df-962a-d1f294682b26"
      },
      "outputs": [
        {
          "output_type": "execute_result",
          "data": {
            "text/plain": [
              "list"
            ]
          },
          "metadata": {},
          "execution_count": 90
        }
      ],
      "source": [
        "type(transform_Y)"
      ]
    },
    {
      "cell_type": "code",
      "execution_count": 92,
      "metadata": {
        "id": "ITPjIvUBlM2C"
      },
      "outputs": [],
      "source": [
        "Y = np.array(transform_Y)"
      ]
    },
    {
      "cell_type": "code",
      "source": [
        "Y"
      ],
      "metadata": {
        "colab": {
          "base_uri": "https://localhost:8080/"
        },
        "id": "xALwvc69TT1p",
        "outputId": "8e7ce708-0bef-4869-a4d4-1bc0d12e4f7b"
      },
      "execution_count": 117,
      "outputs": [
        {
          "output_type": "execute_result",
          "data": {
            "text/plain": [
              "array([20, 33, 28, ..., 33, 24, 21])"
            ]
          },
          "metadata": {},
          "execution_count": 117
        }
      ]
    },
    {
      "cell_type": "code",
      "execution_count": 70,
      "metadata": {
        "id": "Qrl3RTDwIaat"
      },
      "outputs": [],
      "source": [
        "#Y = tf.keras.utils.to_categorical(Y)"
      ]
    },
    {
      "cell_type": "markdown",
      "metadata": {
        "id": "FHTC907G8Aeb"
      },
      "source": [
        "You use binary class matrix / one hot coder when your loss function is categorical_crossentropy\n",
        "https://www.tensorflow.org/api_docs/python/tf/keras/utils/to_categorical"
      ]
    },
    {
      "cell_type": "markdown",
      "metadata": {
        "id": "6IDgHfs679k4"
      },
      "source": [
        "![image.png](data:image/png;base64,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)"
      ]
    },
    {
      "cell_type": "code",
      "execution_count": 95,
      "metadata": {
        "id": "FtGGQuQkp0_9"
      },
      "outputs": [],
      "source": [
        "# Making it 3D \n",
        "X = np.array(X).reshape(-1,50,50,1)\n",
        "# Normalizing\n",
        "X = X/255"
      ]
    },
    {
      "cell_type": "code",
      "execution_count": 118,
      "metadata": {
        "colab": {
          "base_uri": "https://localhost:8080/"
        },
        "id": "z2s62QRSJc3n",
        "outputId": "8ee577fd-1d2b-45c4-804f-17d33e9cd06e"
      },
      "outputs": [
        {
          "output_type": "execute_result",
          "data": {
            "text/plain": [
              "(55486, 50, 50, 1)"
            ]
          },
          "metadata": {},
          "execution_count": 118
        }
      ],
      "source": [
        "X.shape"
      ]
    },
    {
      "cell_type": "code",
      "execution_count": 119,
      "metadata": {
        "colab": {
          "base_uri": "https://localhost:8080/"
        },
        "id": "G6gdO4U-pLlI",
        "outputId": "d91f0784-d783-41b8-d3d8-c341e2b101af"
      },
      "outputs": [
        {
          "output_type": "execute_result",
          "data": {
            "text/plain": [
              "(55486,)"
            ]
          },
          "metadata": {},
          "execution_count": 119
        }
      ],
      "source": [
        "Y.shape"
      ]
    },
    {
      "cell_type": "markdown",
      "metadata": {
        "id": "Kbmdu_ZfPQDx"
      },
      "source": [
        "## Saving Data "
      ]
    },
    {
      "cell_type": "code",
      "execution_count": null,
      "metadata": {
        "id": "K_7mK92jPRb9"
      },
      "outputs": [],
      "source": [
        "# import pickle\n",
        "\n",
        "# pickle_out = open(\"X.pickle\",\"wb\")\n",
        "# pickle.dump(X, pickle_out)\n",
        "# pickle_out.close()\n",
        "\n",
        "# pickle_out = open(\"y.pickle\",\"wb\")\n",
        "# pickle.dump(Y, pickle_out)\n",
        "# pickle_out.close()"
      ]
    },
    {
      "cell_type": "markdown",
      "metadata": {
        "id": "Ox77VNHxI13l"
      },
      "source": [
        "## Getting the Training, Validation and Test Dataset"
      ]
    },
    {
      "cell_type": "code",
      "execution_count": null,
      "metadata": {
        "id": "6LVeDM9cQwxi"
      },
      "outputs": [],
      "source": [
        "# X = pickle.load(open('X.pickle','rb'))\n",
        "# Y = pickle.load(open('y.pickle','rb'))"
      ]
    },
    {
      "cell_type": "code",
      "execution_count": 102,
      "metadata": {
        "id": "Ra1wSZOHJa_g"
      },
      "outputs": [],
      "source": [
        "from sklearn.model_selection import train_test_split\n",
        "X_train, X_test, y_train, y_test  = train_test_split(X, Y, test_size=0.3, random_state=random_seed, stratify=Y)\n",
        "\n",
        "# We may dont need this because we can do a validation split in the model.fit\n",
        "X_train, X_val, y_train, y_val = train_test_split(X_train, y_train, test_size=0.3, random_state=random_seed, stratify=y_train)"
      ]
    },
    {
      "cell_type": "code",
      "execution_count": 123,
      "metadata": {
        "colab": {
          "base_uri": "https://localhost:8080/"
        },
        "id": "EdnQY8ZajaZe",
        "outputId": "fc0c59e2-5343-4dd8-d252-a74121a95ab0"
      },
      "outputs": [
        {
          "output_type": "execute_result",
          "data": {
            "text/plain": [
              "(27188,)"
            ]
          },
          "metadata": {},
          "execution_count": 123
        }
      ],
      "source": [
        "y_train.shape #this shape may be wrong"
      ]
    },
    {
      "cell_type": "code",
      "source": [
        "y_val.shape"
      ],
      "metadata": {
        "colab": {
          "base_uri": "https://localhost:8080/"
        },
        "id": "e8qmvoTcbERN",
        "outputId": "d09a130a-82d6-4751-e5a9-8907965739dd"
      },
      "execution_count": 130,
      "outputs": [
        {
          "output_type": "execute_result",
          "data": {
            "text/plain": [
              "(11652,)"
            ]
          },
          "metadata": {},
          "execution_count": 130
        }
      ]
    },
    {
      "cell_type": "code",
      "source": [
        "y_test.shape"
      ],
      "metadata": {
        "colab": {
          "base_uri": "https://localhost:8080/"
        },
        "id": "OrqhWvd3bGSw",
        "outputId": "b4fe0975-700e-4606-8989-8707af1ada32"
      },
      "execution_count": 131,
      "outputs": [
        {
          "output_type": "execute_result",
          "data": {
            "text/plain": [
              "(16646,)"
            ]
          },
          "metadata": {},
          "execution_count": 131
        }
      ]
    },
    {
      "cell_type": "code",
      "execution_count": 124,
      "metadata": {
        "colab": {
          "base_uri": "https://localhost:8080/"
        },
        "id": "QmMY8Z9mS83Q",
        "outputId": "543d09ac-84af-4fd7-d6e1-bb48089d1178"
      },
      "outputs": [
        {
          "output_type": "execute_result",
          "data": {
            "text/plain": [
              "(27188, 50, 50, 1)"
            ]
          },
          "metadata": {},
          "execution_count": 124
        }
      ],
      "source": [
        "X_train.shape"
      ]
    },
    {
      "cell_type": "code",
      "execution_count": 125,
      "metadata": {
        "colab": {
          "base_uri": "https://localhost:8080/"
        },
        "id": "-TrKM-7VVJqO",
        "outputId": "2442ace0-44ca-48c3-d27a-bc89a07c66ef"
      },
      "outputs": [
        {
          "output_type": "execute_result",
          "data": {
            "text/plain": [
              "(11652, 50, 50, 1)"
            ]
          },
          "metadata": {},
          "execution_count": 125
        }
      ],
      "source": [
        "X_val.shape"
      ]
    },
    {
      "cell_type": "code",
      "execution_count": 126,
      "metadata": {
        "colab": {
          "base_uri": "https://localhost:8080/"
        },
        "id": "MO2GDE97VLz2",
        "outputId": "36895321-3bac-43e7-ebf0-61d8091a08f9"
      },
      "outputs": [
        {
          "output_type": "execute_result",
          "data": {
            "text/plain": [
              "(16646, 50, 50, 1)"
            ]
          },
          "metadata": {},
          "execution_count": 126
        }
      ],
      "source": [
        "X_test.shape"
      ]
    },
    {
      "cell_type": "markdown",
      "metadata": {
        "id": "1eicwbYqS9ba"
      },
      "source": [
        "## Transforming Array to Tensor Dataset "
      ]
    },
    {
      "cell_type": "code",
      "execution_count": 107,
      "metadata": {
        "id": "SR7KDp6HTbh_"
      },
      "outputs": [],
      "source": [
        "data_train = tf.data.Dataset.from_tensor_slices((X_train, y_train))\n",
        "data_valid = tf.data.Dataset.from_tensor_slices((X_val, y_val))\n",
        "data_test = tf.data.Dataset.from_tensor_slices((X_test, y_test))"
      ]
    },
    {
      "cell_type": "code",
      "execution_count": 108,
      "metadata": {
        "colab": {
          "base_uri": "https://localhost:8080/"
        },
        "id": "e243-H7ramiR",
        "outputId": "d353ba93-2a1b-4463-f110-9b885e28d4c7"
      },
      "outputs": [
        {
          "output_type": "execute_result",
          "data": {
            "text/plain": [
              "tensorflow.python.data.ops.dataset_ops.TensorSliceDataset"
            ]
          },
          "metadata": {},
          "execution_count": 108
        }
      ],
      "source": [
        "type(data_train)"
      ]
    },
    {
      "cell_type": "code",
      "execution_count": 109,
      "metadata": {
        "id": "RtUab1JMw78J"
      },
      "outputs": [],
      "source": [
        "# Set the batch size\n",
        "batch_size = 100\n",
        "\n",
        "# Batch and prefetch the training data\n",
        "data_train = data_train.batch(batch_size).prefetch(1)\n",
        "\n",
        "# Batch and prefetch the validation data\n",
        "data_valid = data_valid.batch(batch_size).prefetch(1)\n",
        "\n",
        "# Batch and prefetch the test data\n",
        "data_test = data_test.batch(batch_size).prefetch(1)"
      ]
    },
    {
      "cell_type": "markdown",
      "metadata": {
        "id": "gYzrWlEhxzhK"
      },
      "source": [
        "## Training "
      ]
    },
    {
      "cell_type": "code",
      "execution_count": null,
      "metadata": {
        "id": "dxI4m2Ebx1qE"
      },
      "outputs": [],
      "source": [
        "# Make directory\n",
        "directory = os.path.dirname(abspath_curr + '/result/model/')\n",
        "if not os.path.exists(directory):\n",
        "    os.makedirs(directory)"
      ]
    },
    {
      "cell_type": "markdown",
      "metadata": {
        "id": "DBaWrSi1Ze3r"
      },
      "source": [
        "### Building Model"
      ]
    },
    {
      "cell_type": "code",
      "execution_count": 110,
      "metadata": {
        "id": "mBLN7gGrbDmx"
      },
      "outputs": [],
      "source": [
        "model = keras.models.Sequential([\n",
        "    keras.layers.Conv2D(32, 5, activation='relu', input_shape=(50, 50, 1)),\n",
        "    keras.layers.MaxPooling2D(2),\n",
        "    keras.layers.Dropout(0.5),\n",
        "    keras.layers.Flatten(),  # <= add this\n",
        "    keras.layers.Dense(38, activation='softmax')\n",
        "])"
      ]
    },
    {
      "cell_type": "code",
      "execution_count": 111,
      "metadata": {
        "id": "4lhaTqLhbHMg"
      },
      "outputs": [],
      "source": [
        "# Compile the model\n",
        "model.compile(optimizer= 'Adam',\n",
        "              loss='sparse_categorical_crossentropy',\n",
        "              metrics=['accuracy'])"
      ]
    },
    {
      "cell_type": "markdown",
      "metadata": {
        "id": "v0opKSfL3CjJ"
      },
      "source": [
        "## Using Arrays (Doesnt Work)"
      ]
    },
    {
      "cell_type": "code",
      "execution_count": 112,
      "metadata": {
        "colab": {
          "base_uri": "https://localhost:8080/"
        },
        "id": "fAMh7HeW31zl",
        "outputId": "92422095-128e-41bd-d1f1-2ccc208688d4"
      },
      "outputs": [
        {
          "output_type": "execute_result",
          "data": {
            "text/plain": [
              "(55486, 50, 50, 1)"
            ]
          },
          "metadata": {},
          "execution_count": 112
        }
      ],
      "source": [
        "X.shape"
      ]
    },
    {
      "cell_type": "code",
      "execution_count": 113,
      "metadata": {
        "colab": {
          "base_uri": "https://localhost:8080/"
        },
        "id": "GvX8Wsgi4CsO",
        "outputId": "19cdc91e-322f-4c37-b52a-48e4ba39c733"
      },
      "outputs": [
        {
          "output_type": "execute_result",
          "data": {
            "text/plain": [
              "(55486,)"
            ]
          },
          "metadata": {},
          "execution_count": 113
        }
      ],
      "source": [
        "Y.shape"
      ]
    },
    {
      "cell_type": "code",
      "execution_count": 114,
      "metadata": {
        "colab": {
          "base_uri": "https://localhost:8080/"
        },
        "id": "J8ymtqkH20sm",
        "outputId": "e9096bbd-3c5a-4d91-9627-44c7c1a72753"
      },
      "outputs": [
        {
          "output_type": "stream",
          "name": "stdout",
          "text": [
            "Epoch 1/10\n",
            "182/182 [==============================] - 10s 8ms/step - loss: 0.8030 - accuracy: 0.8043 - val_loss: 0.1382 - val_accuracy: 0.9717\n",
            "Epoch 2/10\n",
            "182/182 [==============================] - 1s 6ms/step - loss: 0.0913 - accuracy: 0.9806 - val_loss: 0.0371 - val_accuracy: 0.9957\n",
            "Epoch 3/10\n",
            "182/182 [==============================] - 1s 6ms/step - loss: 0.0359 - accuracy: 0.9940 - val_loss: 0.0216 - val_accuracy: 0.9973\n",
            "Epoch 4/10\n",
            "182/182 [==============================] - 1s 6ms/step - loss: 0.0192 - accuracy: 0.9976 - val_loss: 0.0097 - val_accuracy: 0.9994\n",
            "Epoch 5/10\n",
            "182/182 [==============================] - 1s 6ms/step - loss: 0.0118 - accuracy: 0.9985 - val_loss: 0.0053 - val_accuracy: 0.9997\n",
            "Epoch 6/10\n",
            "182/182 [==============================] - 1s 6ms/step - loss: 0.0075 - accuracy: 0.9991 - val_loss: 0.0037 - val_accuracy: 0.9999\n",
            "Epoch 7/10\n",
            "182/182 [==============================] - 1s 6ms/step - loss: 0.0058 - accuracy: 0.9994 - val_loss: 0.0026 - val_accuracy: 1.0000\n",
            "Epoch 8/10\n",
            "182/182 [==============================] - 1s 6ms/step - loss: 0.0045 - accuracy: 0.9996 - val_loss: 0.0022 - val_accuracy: 0.9999\n",
            "Epoch 9/10\n",
            "182/182 [==============================] - 1s 6ms/step - loss: 0.0035 - accuracy: 0.9997 - val_loss: 0.0015 - val_accuracy: 1.0000\n",
            "Epoch 10/10\n",
            "182/182 [==============================] - 1s 6ms/step - loss: 0.0024 - accuracy: 0.9999 - val_loss: 0.0012 - val_accuracy: 1.0000\n"
          ]
        },
        {
          "output_type": "execute_result",
          "data": {
            "text/plain": [
              "<keras.callbacks.History at 0x7f8b50622950>"
            ]
          },
          "metadata": {},
          "execution_count": 114
        }
      ],
      "source": [
        "model.fit(X_train,y_train, batch_size = 150, epochs = 10,validation_data = [X_val,y_val])"
      ]
    },
    {
      "cell_type": "markdown",
      "metadata": {
        "id": "_hGqxfk323us"
      },
      "source": [
        "## Using TensorSlide Dataset (Doesnt work)"
      ]
    },
    {
      "cell_type": "code",
      "execution_count": 115,
      "metadata": {
        "id": "1KTR44jIbHhX"
      },
      "outputs": [],
      "source": [
        "# ModelCheckpoint callback\n",
        "model_checkpoint_cb = keras.callbacks.ModelCheckpoint(filepath=abspath_curr + '/result/model/model_final',\n",
        "                                                      save_best_only=True,\n",
        "                                                      save_weights_only=True)\n",
        "\n",
        "# EarlyStopping callback\n",
        "early_stopping_cb = keras.callbacks.EarlyStopping(patience=5,\n",
        "                                                  restore_best_weights=True)\n",
        "\n",
        "# ReduceLROnPlateau callback\n",
        "reduce_lr_on_plateau_cb = keras.callbacks.ReduceLROnPlateau(factor=0.1,\n",
        "                                                            patience=2)"
      ]
    },
    {
      "cell_type": "code",
      "execution_count": 116,
      "metadata": {
        "colab": {
          "base_uri": "https://localhost:8080/"
        },
        "id": "iQw-0ooYb60_",
        "outputId": "a2e3cb84-2d9b-4820-f519-e82a4bf00edf"
      },
      "outputs": [
        {
          "output_type": "stream",
          "name": "stdout",
          "text": [
            "Epoch 1/50\n",
            "272/272 [==============================] - 2s 8ms/step - loss: 0.0041 - accuracy: 0.9993 - val_loss: 0.0012 - val_accuracy: 1.0000 - lr: 0.0010\n",
            "Epoch 2/50\n",
            "272/272 [==============================] - 2s 7ms/step - loss: 0.0020 - accuracy: 0.9998 - val_loss: 9.4836e-04 - val_accuracy: 1.0000 - lr: 0.0010\n",
            "Epoch 3/50\n",
            "272/272 [==============================] - 2s 6ms/step - loss: 0.0026 - accuracy: 0.9995 - val_loss: 0.0014 - val_accuracy: 1.0000 - lr: 0.0010\n",
            "Epoch 4/50\n",
            "272/272 [==============================] - 2s 7ms/step - loss: 0.0022 - accuracy: 0.9996 - val_loss: 7.7277e-04 - val_accuracy: 1.0000 - lr: 0.0010\n",
            "Epoch 5/50\n",
            "272/272 [==============================] - 2s 7ms/step - loss: 0.0011 - accuracy: 0.9999 - val_loss: 3.5994e-04 - val_accuracy: 1.0000 - lr: 0.0010\n",
            "Epoch 6/50\n",
            "272/272 [==============================] - 2s 7ms/step - loss: 6.4528e-04 - accuracy: 1.0000 - val_loss: 2.6876e-04 - val_accuracy: 1.0000 - lr: 0.0010\n",
            "Epoch 7/50\n",
            "272/272 [==============================] - 2s 7ms/step - loss: 9.3867e-04 - accuracy: 0.9999 - val_loss: 2.2148e-04 - val_accuracy: 1.0000 - lr: 0.0010\n",
            "Epoch 8/50\n",
            "272/272 [==============================] - 2s 7ms/step - loss: 3.5129e-04 - accuracy: 1.0000 - val_loss: 1.8680e-04 - val_accuracy: 1.0000 - lr: 0.0010\n",
            "Epoch 9/50\n",
            "272/272 [==============================] - 2s 7ms/step - loss: 0.0012 - accuracy: 0.9997 - val_loss: 1.6794e-04 - val_accuracy: 1.0000 - lr: 0.0010\n",
            "Epoch 10/50\n",
            "272/272 [==============================] - 2s 7ms/step - loss: 2.5581e-04 - accuracy: 1.0000 - val_loss: 1.3421e-04 - val_accuracy: 1.0000 - lr: 1.0000e-04\n",
            "Epoch 11/50\n",
            "272/272 [==============================] - 2s 6ms/step - loss: 2.6061e-04 - accuracy: 1.0000 - val_loss: 1.4166e-04 - val_accuracy: 1.0000 - lr: 1.0000e-04\n",
            "Epoch 12/50\n",
            "272/272 [==============================] - 2s 7ms/step - loss: 2.2548e-04 - accuracy: 1.0000 - val_loss: 1.2789e-04 - val_accuracy: 1.0000 - lr: 1.0000e-05\n",
            "Epoch 13/50\n",
            "272/272 [==============================] - 2s 7ms/step - loss: 2.4325e-04 - accuracy: 1.0000 - val_loss: 1.2229e-04 - val_accuracy: 1.0000 - lr: 1.0000e-05\n",
            "Epoch 14/50\n",
            "272/272 [==============================] - 2s 7ms/step - loss: 2.0333e-04 - accuracy: 1.0000 - val_loss: 1.2203e-04 - val_accuracy: 1.0000 - lr: 1.0000e-06\n",
            "Epoch 15/50\n",
            "272/272 [==============================] - 2s 7ms/step - loss: 2.2182e-04 - accuracy: 1.0000 - val_loss: 1.2147e-04 - val_accuracy: 1.0000 - lr: 1.0000e-06\n",
            "Epoch 16/50\n",
            "272/272 [==============================] - 2s 7ms/step - loss: 2.2596e-04 - accuracy: 1.0000 - val_loss: 1.2084e-04 - val_accuracy: 1.0000 - lr: 1.0000e-06\n",
            "Epoch 17/50\n",
            "272/272 [==============================] - 2s 6ms/step - loss: 2.1163e-04 - accuracy: 1.0000 - val_loss: 1.2022e-04 - val_accuracy: 1.0000 - lr: 1.0000e-06\n",
            "Epoch 18/50\n",
            "272/272 [==============================] - 2s 7ms/step - loss: 2.0969e-04 - accuracy: 1.0000 - val_loss: 1.2015e-04 - val_accuracy: 1.0000 - lr: 1.0000e-07\n",
            "Epoch 19/50\n",
            "272/272 [==============================] - 2s 7ms/step - loss: 2.2058e-04 - accuracy: 1.0000 - val_loss: 1.2012e-04 - val_accuracy: 1.0000 - lr: 1.0000e-07\n",
            "Epoch 20/50\n",
            "272/272 [==============================] - 2s 7ms/step - loss: 2.4687e-04 - accuracy: 1.0000 - val_loss: 1.2012e-04 - val_accuracy: 1.0000 - lr: 1.0000e-08\n",
            "Epoch 21/50\n",
            "272/272 [==============================] - 2s 7ms/step - loss: 1.9723e-04 - accuracy: 1.0000 - val_loss: 1.2011e-04 - val_accuracy: 1.0000 - lr: 1.0000e-08\n",
            "Epoch 22/50\n",
            "272/272 [==============================] - 2s 7ms/step - loss: 1.9857e-04 - accuracy: 1.0000 - val_loss: 1.2011e-04 - val_accuracy: 1.0000 - lr: 1.0000e-09\n",
            "Epoch 23/50\n",
            "272/272 [==============================] - 2s 6ms/step - loss: 2.5526e-04 - accuracy: 1.0000 - val_loss: 1.2011e-04 - val_accuracy: 1.0000 - lr: 1.0000e-09\n",
            "Epoch 24/50\n",
            "272/272 [==============================] - 2s 6ms/step - loss: 2.3075e-04 - accuracy: 1.0000 - val_loss: 1.2011e-04 - val_accuracy: 1.0000 - lr: 1.0000e-10\n",
            "Epoch 25/50\n",
            "272/272 [==============================] - 2s 6ms/step - loss: 1.9616e-04 - accuracy: 1.0000 - val_loss: 1.2011e-04 - val_accuracy: 1.0000 - lr: 1.0000e-10\n",
            "Epoch 26/50\n",
            "272/272 [==============================] - 2s 6ms/step - loss: 2.2221e-04 - accuracy: 1.0000 - val_loss: 1.2011e-04 - val_accuracy: 1.0000 - lr: 1.0000e-11\n",
            "Epoch 27/50\n",
            "272/272 [==============================] - 2s 6ms/step - loss: 2.2762e-04 - accuracy: 1.0000 - val_loss: 1.2011e-04 - val_accuracy: 1.0000 - lr: 1.0000e-11\n"
          ]
        }
      ],
      "source": [
        "# Train, evaluate and save the best model\n",
        "history = model.fit(data_train,\n",
        "                    epochs=50,\n",
        "                    validation_data=data_valid,\n",
        "                    callbacks=[model_checkpoint_cb,\n",
        "                               early_stopping_cb,\n",
        "                               reduce_lr_on_plateau_cb])"
      ]
    },
    {
      "cell_type": "code",
      "execution_count": 120,
      "metadata": {
        "id": "eou-Y_e7b-mX"
      },
      "outputs": [],
      "source": [
        "# Make directory\n",
        "directory = os.path.dirname(abspath_curr + '/result/figure/')\n",
        "if not os.path.exists(directory):\n",
        "    os.makedirs(directory)\n"
      ]
    },
    {
      "cell_type": "code",
      "execution_count": 121,
      "metadata": {
        "id": "jG_NrMLDb_fH",
        "colab": {
          "base_uri": "https://localhost:8080/",
          "height": 348
        },
        "outputId": "1748cff5-b0b9-4a3d-c502-8ce662d6ba63"
      },
      "outputs": [
        {
          "output_type": "display_data",
          "data": {
            "text/plain": [
              "<Figure size 576x360 with 1 Axes>"
            ],
            "image/png": "[encoded data removed]"
          },
          "metadata": {
            "needs_background": "light"
          }
        }
      ],
      "source": [
        "import pandas as pd\n",
        "\n",
        "# Create a figure\n",
        "pd.DataFrame(history.history).plot(figsize=(8, 5))\n",
        "\n",
        "# Save and show the figure\n",
        "plt.tight_layout()\n",
        "plt.savefig(abspath_curr + '/result/figure/learning_curve.pdf')\n",
        "plt.show()"
      ]
    },
    {
      "cell_type": "code",
      "source": [
        "loss, accuracy = model.evaluate(data_test)\n"
      ],
      "metadata": {
        "colab": {
          "base_uri": "https://localhost:8080/"
        },
        "id": "KfU73ooDaFvV",
        "outputId": "f8eee951-dcd3-4ad3-e45b-f826fa4e7e6f"
      },
      "execution_count": 122,
      "outputs": [
        {
          "output_type": "stream",
          "name": "stdout",
          "text": [
            "167/167 [==============================] - 1s 5ms/step - loss: 1.3173e-04 - accuracy: 1.0000\n"
          ]
        }
      ]
    }
  ],
  "metadata": {
    "colab": {
      "collapsed_sections": [],
      "name": "ML1_Final_Project.ipynb",
      "provenance": [],
      "machine_shape": "hm"
    },
    "kernelspec": {
      "display_name": "Python 3",
      "name": "python3"
    },
    "language_info": {
      "name": "python"
    },
    "accelerator": "GPU"
  },
  "nbformat": 4,
  "nbformat_minor": 0
}